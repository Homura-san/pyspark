{
 "cells": [
  {
   "cell_type": "code",
   "execution_count": null,
   "metadata": {},
   "outputs": [],
   "source": [
    "class No:\n",
    "    def __init__(self, x):\n",
    "        self.valor = x\n",
    "        self.dir = None\n",
    "        self.esq = None\n",
    "\n",
    "    def show(self):\n",
    "        print(self.valor)"
   ]
  },
  {
   "cell_type": "code",
   "execution_count": null,
   "metadata": {},
   "outputs": [],
   "source": [
    "class Arvore:\n",
    "    def __init__(self):\n",
    "        self.raiz = None\n",
    "\n",
    "    def insere(self, x):\n",
    "        if self.raiz == None:\n",
    "            self.raiz = No(x)\n",
    "            return\n",
    "\n",
    "        temp = self.raiz\n",
    "        p = No(x)\n",
    "        while temp.esq != None or temp.dir != None:\n",
    "            if x  < temp.valor:\n",
    "                temp = temp.esq\n",
    "            else:\n",
    "                temp = temp.dir\n",
    "\n",
    "        if x < temp.valor:\n",
    "            temp.esq = p\n",
    "            return\n",
    "        else:\n",
    "            temp.dir = p\n",
    "            return"
   ]
  },
  {
   "cell_type": "code",
   "execution_count": null,
   "metadata": {},
   "outputs": [],
   "source": []
  }
 ],
 "metadata": {
  "kernelspec": {
   "display_name": "Python 3.10.1 64-bit",
   "language": "python",
   "name": "python3"
  },
  "language_info": {
   "codemirror_mode": {
    "name": "ipython",
    "version": 3
   },
   "file_extension": ".py",
   "mimetype": "text/x-python",
   "name": "python",
   "nbconvert_exporter": "python",
   "pygments_lexer": "ipython3",
   "version": "3.10.1"
  },
  "orig_nbformat": 4,
  "vscode": {
   "interpreter": {
    "hash": "369f2c481f4da34e4445cda3fffd2e751bd1c4d706f27375911949ba6bb62e1c"
   }
  }
 },
 "nbformat": 4,
 "nbformat_minor": 2
}
