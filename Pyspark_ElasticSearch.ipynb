{
  "nbformat": 4,
  "nbformat_minor": 0,
  "metadata": {
    "colab": {
      "provenance": [],
      "include_colab_link": true
    },
    "kernelspec": {
      "name": "python3",
      "display_name": "Python 3"
    },
    "language_info": {
      "name": "python"
    }
  },
  "cells": [
    {
      "cell_type": "markdown",
      "metadata": {
        "id": "view-in-github",
        "colab_type": "text"
      },
      "source": [
        "<a href=\"https://colab.research.google.com/github/Homura-san/pyspark/blob/main/Pyspark_ElasticSearch.ipynb\" target=\"_parent\"><img src=\"https://colab.research.google.com/assets/colab-badge.svg\" alt=\"Open In Colab\"/></a>"
      ]
    },
    {
      "cell_type": "markdown",
      "source": [
        "# **Instalando o Pyspark**"
      ],
      "metadata": {
        "id": "W609kqpffqqx"
      }
    },
    {
      "cell_type": "code",
      "execution_count": 1,
      "metadata": {
        "id": "5Fm2F4FWfpJ2"
      },
      "outputs": [],
      "source": [
        "!apt-get install openjdk-8-jdk-headless -qq > /dev/null"
      ]
    },
    {
      "cell_type": "code",
      "source": [
        "# Fazendo download\n",
        "!wget -q https://archive.apache.org/dist/spark/spark-3.1.2/spark-3.1.2-bin-hadoop2.7.tgz\n",
        "\n",
        "# Descompactando os arquivos\n",
        "!tar xf spark-3.1.2-bin-hadoop2.7.tgz"
      ],
      "metadata": {
        "id": "xkPs1bU-gDgy"
      },
      "execution_count": 2,
      "outputs": []
    },
    {
      "cell_type": "code",
      "source": [
        "!tar xf spark-3.1.2-bin-hadoop2.7.tgz"
      ],
      "metadata": {
        "id": "UXS2f8OHHOvu"
      },
      "execution_count": 3,
      "outputs": []
    },
    {
      "cell_type": "code",
      "source": [
        "import os\n",
        "\n",
        "# Definindo a variável de ambiente do Java\n",
        "os.environ[\"JAVA_HOME\"] = \"/usr/lib/jvm/java-8-openjdk-amd64\"\n",
        "\n",
        "# Definindo a variável de ambiente do Spark\n",
        "os.environ[\"SPARK_HOME\"] = \"/content/spark-3.1.2-bin-hadoop2.7\""
      ],
      "metadata": {
        "id": "eaJDFl6GgFu4"
      },
      "execution_count": 4,
      "outputs": []
    },
    {
      "cell_type": "code",
      "source": [
        "# instalando a findspark\n",
        "!pip install -q findspark"
      ],
      "metadata": {
        "id": "EgRf5biogL-Q"
      },
      "execution_count": 5,
      "outputs": []
    },
    {
      "cell_type": "code",
      "source": [
        "# Importando a findspark\n",
        "import findspark\n",
        "\n",
        "# Iniciando o findspark\n",
        "findspark.init()"
      ],
      "metadata": {
        "id": "5hUzfsJrgMjg"
      },
      "execution_count": 6,
      "outputs": []
    },
    {
      "cell_type": "code",
      "source": [
        "# importando o pacote necessário para iniciar uma seção Spark\n",
        "from pyspark.sql import SparkSession\n",
        "\n",
        "# iniciando o spark context\n",
        "sc = SparkSession.builder.master('local[*]').getOrCreate()\n",
        "\n",
        "# Verificando se a sessão foi criada\n",
        "sc"
      ],
      "metadata": {
        "colab": {
          "base_uri": "https://localhost:8080/",
          "height": 219
        },
        "id": "eqeUvmBTgVGA",
        "outputId": "993ef11a-726a-433e-e4a9-52b4790d7aad"
      },
      "execution_count": 7,
      "outputs": [
        {
          "output_type": "execute_result",
          "data": {
            "text/plain": [
              "<pyspark.sql.session.SparkSession at 0x7f1eac5b81f0>"
            ],
            "text/html": [
              "\n",
              "            <div>\n",
              "                <p><b>SparkSession - in-memory</b></p>\n",
              "                \n",
              "        <div>\n",
              "            <p><b>SparkContext</b></p>\n",
              "\n",
              "            <p><a href=\"http://b50329bcae77:4040\">Spark UI</a></p>\n",
              "\n",
              "            <dl>\n",
              "              <dt>Version</dt>\n",
              "                <dd><code>v3.1.2</code></dd>\n",
              "              <dt>Master</dt>\n",
              "                <dd><code>local[*]</code></dd>\n",
              "              <dt>AppName</dt>\n",
              "                <dd><code>pyspark-shell</code></dd>\n",
              "            </dl>\n",
              "        </div>\n",
              "        \n",
              "            </div>\n",
              "        "
            ]
          },
          "metadata": {},
          "execution_count": 7
        }
      ]
    },
    {
      "cell_type": "markdown",
      "source": [
        "# **Instalando o ElasticSearch**"
      ],
      "metadata": {
        "id": "riLv4U9wWY6w"
      }
    },
    {
      "cell_type": "code",
      "source": [
        "#!pip install tensorflow-io\n",
        "!pip install elasticsearch"
      ],
      "metadata": {
        "colab": {
          "base_uri": "https://localhost:8080/"
        },
        "id": "EBXSP181WmG3",
        "outputId": "c78186ef-b11a-4e4f-f3b8-df2090740646"
      },
      "execution_count": 8,
      "outputs": [
        {
          "output_type": "stream",
          "name": "stdout",
          "text": [
            "Looking in indexes: https://pypi.org/simple, https://us-python.pkg.dev/colab-wheels/public/simple/\n",
            "Collecting elasticsearch\n",
            "  Downloading elasticsearch-8.8.0-py3-none-any.whl (393 kB)\n",
            "\u001b[2K     \u001b[90m━━━━━━━━━━━━━━━━━━━━━━━━━━━━━━━━━━━━━━\u001b[0m \u001b[32m393.8/393.8 kB\u001b[0m \u001b[31m10.4 MB/s\u001b[0m eta \u001b[36m0:00:00\u001b[0m\n",
            "\u001b[?25hCollecting elastic-transport<9,>=8 (from elasticsearch)\n",
            "  Downloading elastic_transport-8.4.0-py3-none-any.whl (59 kB)\n",
            "\u001b[2K     \u001b[90m━━━━━━━━━━━━━━━━━━━━━━━━━━━━━━━━━━━━━━━━\u001b[0m \u001b[32m59.5/59.5 kB\u001b[0m \u001b[31m6.9 MB/s\u001b[0m eta \u001b[36m0:00:00\u001b[0m\n",
            "\u001b[?25hRequirement already satisfied: urllib3<2,>=1.26.2 in /usr/local/lib/python3.10/dist-packages (from elastic-transport<9,>=8->elasticsearch) (1.26.15)\n",
            "Requirement already satisfied: certifi in /usr/local/lib/python3.10/dist-packages (from elastic-transport<9,>=8->elasticsearch) (2022.12.7)\n",
            "Installing collected packages: elastic-transport, elasticsearch\n",
            "Successfully installed elastic-transport-8.4.0 elasticsearch-8.8.0\n"
          ]
        }
      ]
    },
    {
      "cell_type": "code",
      "source": [
        "import os\n",
        "import time\n",
        "from sklearn.model_selection import train_test_split\n",
        "from elasticsearch import Elasticsearch\n",
        "import numpy as np\n",
        "import pandas as pd\n",
        "#import tensorflow as tf\n",
        "#from tensorflow.keras import layers\n",
        "#from tensorflow.keras.layers.experimental import preprocessing\n",
        "#import tensorflow_io as tfio"
      ],
      "metadata": {
        "id": "nflxmJQjWpW4"
      },
      "execution_count": 9,
      "outputs": []
    },
    {
      "cell_type": "markdown",
      "source": [
        "### Validando imports do tf e tfio"
      ],
      "metadata": {
        "id": "NVGfbrA4W0Jg"
      }
    },
    {
      "cell_type": "code",
      "source": [
        "#print(\"tensorflow-io version: {}\".format(tfio.__version__))\n",
        "#print(\"tensorflow version: {}\".format(tf.__version__))"
      ],
      "metadata": {
        "colab": {
          "base_uri": "https://localhost:8080/"
        },
        "id": "htwzRh4yW7NG",
        "outputId": "02c5c5e8-3786-4121-d88f-6bd5c5ff5e5d"
      },
      "execution_count": null,
      "outputs": [
        {
          "output_type": "stream",
          "name": "stdout",
          "text": [
            "tensorflow-io version: 0.32.0\n",
            "tensorflow version: 2.12.0\n"
          ]
        }
      ]
    },
    {
      "cell_type": "markdown",
      "source": [
        "## Baixando e instalando a instância do Elasticsearch"
      ],
      "metadata": {
        "id": "sWC5eySaXTvn"
      }
    },
    {
      "cell_type": "code",
      "source": [
        "%%bash\n",
        "\n",
        "wget -q https://artifacts.elastic.co/downloads/elasticsearch/elasticsearch-7.15.0-linux-x86_64.tar.gz\n",
        "wget -q https://artifacts.elastic.co/downloads/elasticsearch/elasticsearch-7.15.0-linux-x86_64.tar.gz.sha512\n",
        "tar -xzf elasticsearch-7.15.0-linux-x86_64.tar.gz\n",
        "sudo chown -R daemon:daemon elasticsearch-7.15.0/\n",
        "shasum -a 512 -c elasticsearch-7.15.0-linux-x86_64.tar.gz.sha512"
      ],
      "metadata": {
        "colab": {
          "base_uri": "https://localhost:8080/"
        },
        "id": "zmWuRpchXaUh",
        "outputId": "ed360464-659a-49f8-9148-97bbfe45abaf"
      },
      "execution_count": 10,
      "outputs": [
        {
          "output_type": "stream",
          "name": "stdout",
          "text": [
            "elasticsearch-7.15.0-linux-x86_64.tar.gz: OK\n"
          ]
        }
      ]
    },
    {
      "cell_type": "code",
      "source": [
        "%%bash --bg\n",
        "\n",
        "sudo -H -u daemon elasticsearch-7.15.0/bin/elasticsearch"
      ],
      "metadata": {
        "id": "Yhv_akR_Xp29"
      },
      "execution_count": 11,
      "outputs": []
    },
    {
      "cell_type": "code",
      "source": [
        "# Sleep for few seconds to let the instance start.\n",
        "time.sleep(20)"
      ],
      "metadata": {
        "id": "ewPObPDLXvA1"
      },
      "execution_count": 12,
      "outputs": []
    },
    {
      "cell_type": "code",
      "source": [
        "%%bash\n",
        "\n",
        "ps -ef | grep elasticsearch"
      ],
      "metadata": {
        "colab": {
          "base_uri": "https://localhost:8080/"
        },
        "id": "cHoM9NUUXxTt",
        "outputId": "0f0d6db3-8e11-4322-a3f0-53011c8eba6d"
      },
      "execution_count": 17,
      "outputs": [
        {
          "output_type": "stream",
          "name": "stdout",
          "text": [
            "root        1649    1647  0 13:25 ?        00:00:00 sudo -H -u daemon elasticsearch-7.15.0/bin/elasticsearch\n",
            "daemon      1650    1649 99 13:25 ?        00:00:50 /content/elasticsearch-7.15.0/jdk/bin/java -Xshare:auto -Des.networkaddress.cache.ttl=60 -Des.networkaddress.cache.negative.ttl=10 -XX:+AlwaysPreTouch -Xss1m -Djava.awt.headless=true -Dfile.encoding=UTF-8 -Djna.nosys=true -XX:-OmitStackTraceInFastThrow -XX:+ShowCodeDetailsInExceptionMessages -Dio.netty.noUnsafe=true -Dio.netty.noKeySetOptimization=true -Dio.netty.recycler.maxCapacityPerThread=0 -Dio.netty.allocator.numDirectArenas=0 -Dlog4j.shutdownHookEnabled=false -Dlog4j2.disable.jmx=true -Djava.locale.providers=SPI,COMPAT --add-opens=java.base/java.io=ALL-UNNAMED -XX:+UseG1GC -Djava.io.tmpdir=/tmp/elasticsearch-11856754181015760773 -XX:+HeapDumpOnOutOfMemoryError -XX:HeapDumpPath=data -XX:ErrorFile=logs/hs_err_pid%p.log -Xlog:gc*,gc+age=trace,safepoint:file=logs/gc.log:utctime,pid,tags:filecount=32,filesize=64m -Xms6491m -Xmx6491m -XX:MaxDirectMemorySize=3403677696 -XX:G1HeapRegionSize=4m -XX:InitiatingHeapOccupancyPercent=30 -XX:G1ReservePercent=15 -Des.path.home=/content/elasticsearch-7.15.0 -Des.path.conf=/content/elasticsearch-7.15.0/config -Des.distribution.flavor=default -Des.distribution.type=tar -Des.bundled_jdk=true -cp /content/elasticsearch-7.15.0/lib/* org.elasticsearch.bootstrap.Elasticsearch\n",
            "daemon      1911    1650  0 13:26 ?        00:00:00 /content/elasticsearch-7.15.0/modules/x-pack-ml/platform/linux-x86_64/bin/controller\n",
            "root        2020    2018  0 13:26 ?        00:00:00 grep elasticsearch\n"
          ]
        }
      ]
    },
    {
      "cell_type": "code",
      "source": [
        "%%bash\n",
        "\n",
        "curl -sX GET \"localhost:9200/\""
      ],
      "metadata": {
        "colab": {
          "base_uri": "https://localhost:8080/"
        },
        "id": "O9iU_EWKXzRN",
        "outputId": "339fa518-10e0-46ab-bba9-4a17c5e15cad"
      },
      "execution_count": 19,
      "outputs": [
        {
          "output_type": "stream",
          "name": "stdout",
          "text": [
            "{\n",
            "  \"name\" : \"b50329bcae77\",\n",
            "  \"cluster_name\" : \"elasticsearch\",\n",
            "  \"cluster_uuid\" : \"qZQTwtf6QjGJ-PPfrvmn5g\",\n",
            "  \"version\" : {\n",
            "    \"number\" : \"7.15.0\",\n",
            "    \"build_flavor\" : \"default\",\n",
            "    \"build_type\" : \"tar\",\n",
            "    \"build_hash\" : \"79d65f6e357953a5b3cbcc5e2c7c21073d89aa29\",\n",
            "    \"build_date\" : \"2021-09-16T03:05:29.143308416Z\",\n",
            "    \"build_snapshot\" : false,\n",
            "    \"lucene_version\" : \"8.9.0\",\n",
            "    \"minimum_wire_compatibility_version\" : \"6.8.0\",\n",
            "    \"minimum_index_compatibility_version\" : \"6.0.0-beta1\"\n",
            "  },\n",
            "  \"tagline\" : \"You Know, for Search\"\n",
            "}\n"
          ]
        }
      ]
    },
    {
      "cell_type": "markdown",
      "source": [
        "# **Importando Arquivo para teste**"
      ],
      "metadata": {
        "id": "EBjNIhJqgafv"
      }
    },
    {
      "cell_type": "markdown",
      "source": [
        "#### * Via Pyspark"
      ],
      "metadata": {
        "id": "QR8e37hiZK7K"
      }
    },
    {
      "cell_type": "code",
      "source": [
        "# Fazendo download do arquivo\n",
        "!wget --verbose --show-progress --no-check-certificate https://raw.githubusercontent.com/jonates/opendata/master/receita_federal/receita_federal_arrecadacao_por_UF_2020.csv"
      ],
      "metadata": {
        "colab": {
          "base_uri": "https://localhost:8080/"
        },
        "id": "ZQOlMyD0ggG3",
        "outputId": "41668cce-0d7d-45c0-82f1-4eaf6f889a1b"
      },
      "execution_count": null,
      "outputs": [
        {
          "output_type": "stream",
          "name": "stdout",
          "text": [
            "--2023-05-19 17:32:45--  https://raw.githubusercontent.com/jonates/opendata/master/receita_federal/receita_federal_arrecadacao_por_UF_2020.csv\n",
            "Resolving raw.githubusercontent.com (raw.githubusercontent.com)... 185.199.108.133, 185.199.109.133, 185.199.110.133, ...\n",
            "Connecting to raw.githubusercontent.com (raw.githubusercontent.com)|185.199.108.133|:443... connected.\n",
            "HTTP request sent, awaiting response... 200 OK\n",
            "Length: 6216 (6.1K) [text/plain]\n",
            "Saving to: ‘receita_federal_arrecadacao_por_UF_2020.csv’\n",
            "\n",
            "\r          receita_f   0%[                    ]       0  --.-KB/s               \rreceita_federal_arr 100%[===================>]   6.07K  --.-KB/s    in 0s      \n",
            "\n",
            "2023-05-19 17:32:45 (51.6 MB/s) - ‘receita_federal_arrecadacao_por_UF_2020.csv’ saved [6216/6216]\n",
            "\n"
          ]
        }
      ]
    },
    {
      "cell_type": "code",
      "source": [
        "# carregando um conjunto de dados que baixamos da internet\n",
        "receitafederal = sc.read.csv(\n",
        "    path = \"/content/receita_federal_arrecadacao_por_UF_2020.csv\", \n",
        "    inferSchema = True, \n",
        "    header = True,\n",
        "    sep = ';', \n",
        "    encoding = \"UTF-8\")"
      ],
      "metadata": {
        "id": "fdvC1UJpgjUv"
      },
      "execution_count": null,
      "outputs": []
    },
    {
      "cell_type": "code",
      "source": [
        "# Verificando o tipo de objeto criado\n",
        "type(receitafederal)"
      ],
      "metadata": {
        "colab": {
          "base_uri": "https://localhost:8080/"
        },
        "id": "w7j_oAWcgoIY",
        "outputId": "0f50a720-474e-499a-8cd5-1bae033f7dfb"
      },
      "execution_count": null,
      "outputs": [
        {
          "output_type": "execute_result",
          "data": {
            "text/plain": [
              "pyspark.sql.dataframe.DataFrame"
            ]
          },
          "metadata": {},
          "execution_count": 11
        }
      ]
    },
    {
      "cell_type": "code",
      "source": [
        "# Espiando o dataset\n",
        "receitafederal.show()"
      ],
      "metadata": {
        "colab": {
          "base_uri": "https://localhost:8080/"
        },
        "id": "BKz3Ftpsgq2_",
        "outputId": "54068839-e825-4d18-e6c6-6aaf0d2ec036"
      },
      "execution_count": null,
      "outputs": [
        {
          "output_type": "stream",
          "name": "stdout",
          "text": [
            "+---+------------+----+------------------------+------------------------+-------------+---------------------------+-------------+--------------+-------------------------------+-------------------------------+-------------------------+--------------+-----------------------------+--------------+-----------------+------------------------------------------------------+-----------------------------+\n",
            "| uf|      regiao| ano|imposto_sobre_importacao|imposto_sobre_exportacao|    ipi_total|imposto_sobre_a_renda_total|         irpf|          irpj|imposto_s_renda_retido_na_fonte|imposto_s_operacoes_financeiras|imposto_territorial_rural|        cofins|contribuicao_para_o_pis_pasep|          csll|cide_combustiveis|cpsss_contrib_p_o_plano_de_segurid_social_serv_publico|outras_receitas_administradas|\n",
            "+---+------------+----+------------------------+------------------------+-------------+---------------------------+-------------+--------------+-------------------------------+-------------------------------+-------------------------+--------------+-----------------------------+--------------+-----------------+------------------------------------------------------+-----------------------------+\n",
            "| AC|       Norte|2020|               985174,77|                   36,13|   4240199,15|               300199853,59|  62072028,88|  113486699,53|                   124641125,18|                     1897985,08|               1487344,08|  144057300,57|                  76934968,18|   68168473,35|                0|                                          104836396,45|                  14062545,18|\n",
            "| AL|    Nordeste|2020|             16616714,74|                19893,75|  72250365,28|              1033019967,29| 247567845,14|  340709902,24|                   444742219,91|                     3702912,85|               4421759,01|  729105725,54|                 249770494,48|  229004663,27|         132127,2|                                          338365145,08|                  48113882,82|\n",
            "| AM|       Norte|2020|            762232235,91|      -0,470000000000002| 169272676,24|              4468506183,61| 257090145,96| 2695103942,73|                  1516312094,92|                    44421129,59|               2348075,49| 4269533703,39|                1149824781,99| 1983534312,19|       14978664,1|                                          341440307,24|                 272633042,17|\n",
            "| AP|       Norte|2020|               309705,72|                   12,13|   2684901,14|               236338731,37|  52232105,57|  112525771,56|                    71580854,24|                     2864198,87|                797787,75|  106365959,63|                  62458965,04|   56187326,93|                0|                                          309464338,76|                   4004358,08|\n",
            "| BA|    Nordeste|2020|           1030620380,98|                30131,08|1583343870,65|               5997973282,7|  982824367,8| 2670174389,56|                  2344974525,34|                    25438592,62|               55878608,8| 5555103826,17|                1686822120,06| 1767716643,83|       2022454,51|                                          917452592,46|                   9234434,79|\n",
            "| CE|    Nordeste|2020|            712512834,54|                 2225,73| 652218015,22|              5315214147,03| 601900486,16| 2444764790,35|                  2268548870,52|                    18347619,28|               3743560,25| 3855584306,24|                1108484440,14| 1586572162,78|      40927710,14|                                          700664874,87|                  87941017,52|\n",
            "| DF|Centro-Oeste|2020|             38676559,11|                 2898,39|  81049965,17|             56077120890,97|1035328309,44| 7073534944,19|                 47968257637,34|                  2706081789,12|               2674418,58| 8459868980,28|                5217740369,54| 3574488387,95|           4779,6|                                           18682026689|                6724953354,73|\n",
            "| ES|     Sudeste|2020|           1903559527,65|                29138,38|2760357766,98|               4405048796,3|  532877760,4| 2388039971,85|                  1484131064,05|                    69631222,96|               9201413,05| 4357367700,69|                1238402181,87| 1236501444,16|       4969057,37|                                          423898629,98|                  25602174,44|\n",
            "| GO|Centro-Oeste|2020|            385559156,68|                36012,74| 424591468,17|              5342509382,11|1095425137,87| 2538282615,96|                  1708801628,28|                    50697839,86|             203141980,89| 3158060035,52|                1171321965,71|  1298410494,9|         58191,55|                                           602951176,5|                 162638156,15|\n",
            "| MA|    Nordeste|2020|             51723529,27|               -65446,29|  59786823,14|              1737367153,68| 515033922,64|  647479963,47|                   574853267,57|                     2523741,03|              12589302,25| 2335129747,52|                 712180155,03|  389379529,55|      90598250,59|                                          389881993,92|                  34193386,91|\n",
            "| MG|     Sudeste|2020|           1560969146,37|                17186,05|7450712670,68|             24596928656,02|3606118114,78| 13115582723,6|                  7875227817,64|                   564815589,35|             183172444,97|11925227612,16|                3878472117,53| 6337326709,79|          7359,21|                                         2369216972,77|                  57418517,38|\n",
            "| MS|Centro-Oeste|2020|               1731995,1|                12705,32|  86269901,57|              2340505130,09| 566646793,97| 1031285097,22|                    742573238,9|                    31569632,31|             297484227,44| 1226575545,39|                 488601312,05|  527512179,78|        458401,31|                                          331842783,42|                  25128935,11|\n",
            "| MT|Centro-Oeste|2020|             43440232,07|                 9563,46| 124278133,21|              3406941803,98| 656757408,43| 1666450758,32|                  1083733637,23|                    87145045,51|             260716716,88| 1822661624,44|                 697187912,34|  993536919,54|       2340329,87|                                          351822234,29|                  52954971,81|\n",
            "| PA|       Norte|2020|             98912193,42|                24666,11| 177838811,43|              2917164475,88| 407483520,99| 1364974772,35|                  1144706182,54|                   110031378,18|              30840910,54| 1907101405,68|                 712679134,57|  814984015,39|      28903601,29|                                          630461056,25|                  23479657,12|\n",
            "| PB|    Nordeste|2020|              75455623,5|               -10532,26|  94180485,04|              1678428897,46| 355210341,23|  550589116,38|                   772629439,85|                     8179192,34|               4485567,73|  876737394,87|                 320732511,48|  377234716,55|            17,08|                                           721192971,4|                  18996900,12|\n",
            "| PE|    Nordeste|2020|           1149002785,85|                71410,72| 1405505008,1|              5042629144,11| 809444049,26| 2128202623,49|                  2104982471,36|                    31874905,31|               7582875,08| 5526242288,74|                1576655430,66| 1426586017,85|      64100903,48|                                         1085021182,79|                 206953243,51|\n",
            "| PI|    Nordeste|2020|               328172,13|                 1558,31|  33654426,64|              1062146506,88| 235233389,02|  451289960,09|                   375623157,77|                     2862676,33|              19632280,83|  511120361,46|                 210171838,23|   278500292,1|                0|                                          315936497,84|                  16195984,82|\n",
            "| PR|         Sul|2020|           3964526727,39|                54601,49|4243592969,64|             17606943216,98|3070982622,46| 8636121208,99|                  5899839385,53|                   418626409,71|             190291734,39|13800656694,15|                3714652395,95| 4265783037,66|      90634199,62|                                         1061530802,22|                 422263624,47|\n",
            "| RJ|     Sudeste|2020|           2772035812,15|                 5102,54|2988947657,17|              71462739179,1|5396899630,21|33023309844,26|                 33042529704,63|                  1241887034,59|              13650520,13|31775281577,45|                 9212986524,4|16896065806,46|    1048318687,99|                                         3773448013,47|                 6169915876,1|\n",
            "| RN|    Nordeste|2020|             13279408,52|                  233,05|  52643852,25|              1651943412,64| 304628827,55|  631736550,23|                   715578034,86|                     7804679,88|               2857411,45|  927910133,31|                 356272954,17|  382564725,99|           633,99|                                          572728894,35|                  31903990,99|\n",
            "+---+------------+----+------------------------+------------------------+-------------+---------------------------+-------------+--------------+-------------------------------+-------------------------------+-------------------------+--------------+-----------------------------+--------------+-----------------+------------------------------------------------------+-----------------------------+\n",
            "only showing top 20 rows\n",
            "\n"
          ]
        }
      ]
    },
    {
      "cell_type": "code",
      "source": [
        "# Verificando o schema() deste sparkdataframe\n",
        "receitafederal.printSchema()"
      ],
      "metadata": {
        "colab": {
          "base_uri": "https://localhost:8080/"
        },
        "id": "4NULRlwfgtV_",
        "outputId": "d34b8274-578f-460e-a1e0-4014059b2412"
      },
      "execution_count": null,
      "outputs": [
        {
          "output_type": "stream",
          "name": "stdout",
          "text": [
            "root\n",
            " |-- uf: string (nullable = true)\n",
            " |-- regiao: string (nullable = true)\n",
            " |-- ano: integer (nullable = true)\n",
            " |-- imposto_sobre_importacao: string (nullable = true)\n",
            " |-- imposto_sobre_exportacao: string (nullable = true)\n",
            " |-- ipi_total: string (nullable = true)\n",
            " |-- imposto_sobre_a_renda_total: string (nullable = true)\n",
            " |-- irpf: string (nullable = true)\n",
            " |-- irpj: string (nullable = true)\n",
            " |-- imposto_s_renda_retido_na_fonte: string (nullable = true)\n",
            " |-- imposto_s_operacoes_financeiras: string (nullable = true)\n",
            " |-- imposto_territorial_rural: string (nullable = true)\n",
            " |-- cofins: string (nullable = true)\n",
            " |-- contribuicao_para_o_pis_pasep: string (nullable = true)\n",
            " |-- csll: string (nullable = true)\n",
            " |-- cide_combustiveis: string (nullable = true)\n",
            " |-- cpsss_contrib_p_o_plano_de_segurid_social_serv_publico: string (nullable = true)\n",
            " |-- outras_receitas_administradas: string (nullable = true)\n",
            "\n"
          ]
        }
      ]
    },
    {
      "cell_type": "code",
      "source": [
        "# importando os métodos com funções para transformações de variáveis\n",
        "from pyspark.sql.functions import *\n"
      ],
      "metadata": {
        "id": "682QSnBbhaI9"
      },
      "execution_count": null,
      "outputs": []
    },
    {
      "cell_type": "code",
      "source": [
        "# Transformando o atributo irpf em numerica\n",
        "receitafederal = receitafederal.withColumn(\n",
        "    colName = 'irpf', \n",
        "    col = regexp_replace('irpf',',','.').cast('float')\n",
        "    )\n",
        "\n",
        "# Inspecionando o resultado\n",
        "receitafederal.select('irpf').printSchema()"
      ],
      "metadata": {
        "colab": {
          "base_uri": "https://localhost:8080/"
        },
        "id": "_23xaH1Ghd-W",
        "outputId": "295ee54a-fcf4-4afa-a582-243e3c8dcabf"
      },
      "execution_count": null,
      "outputs": [
        {
          "output_type": "stream",
          "name": "stdout",
          "text": [
            "root\n",
            " |-- irpf: float (nullable = true)\n",
            "\n"
          ]
        }
      ]
    },
    {
      "cell_type": "code",
      "source": [
        "# Verificando o total do irpf por Região do Brasil\n",
        "receitafederal.groupBy('regiao').sum('irpf').orderBy('regiao').show()"
      ],
      "metadata": {
        "colab": {
          "base_uri": "https://localhost:8080/"
        },
        "id": "RqwyQx2jhg5t",
        "outputId": "77fbfbd5-1075-469c-9276-70bb92da145c"
      },
      "execution_count": null,
      "outputs": [
        {
          "output_type": "stream",
          "name": "stdout",
          "text": [
            "+------------+--------------+\n",
            "|      regiao|     sum(irpf)|\n",
            "+------------+--------------+\n",
            "|Centro-Oeste| 3.354157696E9|\n",
            "|    Nordeste| 4.303029696E9|\n",
            "|       Norte| 1.404179308E9|\n",
            "|     Sudeste|2.496098528E10|\n",
            "|         Sul| 7.380957184E9|\n",
            "|       Total|4.140331008E10|\n",
            "+------------+--------------+\n",
            "\n"
          ]
        }
      ]
    },
    {
      "cell_type": "markdown",
      "source": [
        "### * Via ElasticSearch"
      ],
      "metadata": {
        "id": "d8_TbC2OZOix"
      }
    },
    {
      "cell_type": "code",
      "source": [
        "dataset_url = 'http://storage.googleapis.com/download.tensorflow.org/data/petfinder-mini.zip'\n",
        "csv_file = 'datasets/petfinder-mini/petfinder-mini.csv'\n",
        "tf.keras.utils.get_file('petfinder_mini.zip', dataset_url,\n",
        "                        extract=True, cache_dir='.')\n",
        "pf_df = pd.read_csv(csv_file)"
      ],
      "metadata": {
        "id": "DjypkLf9ZR4h"
      },
      "execution_count": null,
      "outputs": []
    },
    {
      "cell_type": "code",
      "source": [
        "pf_df.head()"
      ],
      "metadata": {
        "colab": {
          "base_uri": "https://localhost:8080/",
          "height": 441
        },
        "id": "up_SerxmZ9Dp",
        "outputId": "860b2314-444b-4dba-bfc2-7975291e8bac"
      },
      "execution_count": null,
      "outputs": [
        {
          "output_type": "execute_result",
          "data": {
            "text/plain": [
              "  Type  Age                Breed1  Gender Color1    Color2 MaturitySize  \\\n",
              "0  Cat    3                 Tabby    Male  Black     White        Small   \n",
              "1  Cat    1  Domestic Medium Hair    Male  Black     Brown       Medium   \n",
              "2  Dog    1           Mixed Breed    Male  Brown     White       Medium   \n",
              "3  Dog    4           Mixed Breed  Female  Black     Brown       Medium   \n",
              "4  Dog    1           Mixed Breed    Male  Black  No Color       Medium   \n",
              "\n",
              "  FurLength Vaccinated Sterilized   Health  Fee  \\\n",
              "0     Short         No         No  Healthy  100   \n",
              "1    Medium   Not Sure   Not Sure  Healthy    0   \n",
              "2    Medium        Yes         No  Healthy    0   \n",
              "3     Short        Yes         No  Healthy  150   \n",
              "4     Short         No         No  Healthy    0   \n",
              "\n",
              "                                         Description  PhotoAmt  AdoptionSpeed  \n",
              "0  Nibble is a 3+ month old ball of cuteness. He ...         1              2  \n",
              "1  I just found it alone yesterday near my apartm...         2              0  \n",
              "2  Their pregnant mother was dumped by her irresp...         7              3  \n",
              "3  Good guard dog, very alert, active, obedience ...         8              2  \n",
              "4  This handsome yet cute boy is up for adoption....         3              2  "
            ],
            "text/html": [
              "\n",
              "  <div id=\"df-179d2d95-66f3-4671-a64e-9cf409ffe466\">\n",
              "    <div class=\"colab-df-container\">\n",
              "      <div>\n",
              "<style scoped>\n",
              "    .dataframe tbody tr th:only-of-type {\n",
              "        vertical-align: middle;\n",
              "    }\n",
              "\n",
              "    .dataframe tbody tr th {\n",
              "        vertical-align: top;\n",
              "    }\n",
              "\n",
              "    .dataframe thead th {\n",
              "        text-align: right;\n",
              "    }\n",
              "</style>\n",
              "<table border=\"1\" class=\"dataframe\">\n",
              "  <thead>\n",
              "    <tr style=\"text-align: right;\">\n",
              "      <th></th>\n",
              "      <th>Type</th>\n",
              "      <th>Age</th>\n",
              "      <th>Breed1</th>\n",
              "      <th>Gender</th>\n",
              "      <th>Color1</th>\n",
              "      <th>Color2</th>\n",
              "      <th>MaturitySize</th>\n",
              "      <th>FurLength</th>\n",
              "      <th>Vaccinated</th>\n",
              "      <th>Sterilized</th>\n",
              "      <th>Health</th>\n",
              "      <th>Fee</th>\n",
              "      <th>Description</th>\n",
              "      <th>PhotoAmt</th>\n",
              "      <th>AdoptionSpeed</th>\n",
              "    </tr>\n",
              "  </thead>\n",
              "  <tbody>\n",
              "    <tr>\n",
              "      <th>0</th>\n",
              "      <td>Cat</td>\n",
              "      <td>3</td>\n",
              "      <td>Tabby</td>\n",
              "      <td>Male</td>\n",
              "      <td>Black</td>\n",
              "      <td>White</td>\n",
              "      <td>Small</td>\n",
              "      <td>Short</td>\n",
              "      <td>No</td>\n",
              "      <td>No</td>\n",
              "      <td>Healthy</td>\n",
              "      <td>100</td>\n",
              "      <td>Nibble is a 3+ month old ball of cuteness. He ...</td>\n",
              "      <td>1</td>\n",
              "      <td>2</td>\n",
              "    </tr>\n",
              "    <tr>\n",
              "      <th>1</th>\n",
              "      <td>Cat</td>\n",
              "      <td>1</td>\n",
              "      <td>Domestic Medium Hair</td>\n",
              "      <td>Male</td>\n",
              "      <td>Black</td>\n",
              "      <td>Brown</td>\n",
              "      <td>Medium</td>\n",
              "      <td>Medium</td>\n",
              "      <td>Not Sure</td>\n",
              "      <td>Not Sure</td>\n",
              "      <td>Healthy</td>\n",
              "      <td>0</td>\n",
              "      <td>I just found it alone yesterday near my apartm...</td>\n",
              "      <td>2</td>\n",
              "      <td>0</td>\n",
              "    </tr>\n",
              "    <tr>\n",
              "      <th>2</th>\n",
              "      <td>Dog</td>\n",
              "      <td>1</td>\n",
              "      <td>Mixed Breed</td>\n",
              "      <td>Male</td>\n",
              "      <td>Brown</td>\n",
              "      <td>White</td>\n",
              "      <td>Medium</td>\n",
              "      <td>Medium</td>\n",
              "      <td>Yes</td>\n",
              "      <td>No</td>\n",
              "      <td>Healthy</td>\n",
              "      <td>0</td>\n",
              "      <td>Their pregnant mother was dumped by her irresp...</td>\n",
              "      <td>7</td>\n",
              "      <td>3</td>\n",
              "    </tr>\n",
              "    <tr>\n",
              "      <th>3</th>\n",
              "      <td>Dog</td>\n",
              "      <td>4</td>\n",
              "      <td>Mixed Breed</td>\n",
              "      <td>Female</td>\n",
              "      <td>Black</td>\n",
              "      <td>Brown</td>\n",
              "      <td>Medium</td>\n",
              "      <td>Short</td>\n",
              "      <td>Yes</td>\n",
              "      <td>No</td>\n",
              "      <td>Healthy</td>\n",
              "      <td>150</td>\n",
              "      <td>Good guard dog, very alert, active, obedience ...</td>\n",
              "      <td>8</td>\n",
              "      <td>2</td>\n",
              "    </tr>\n",
              "    <tr>\n",
              "      <th>4</th>\n",
              "      <td>Dog</td>\n",
              "      <td>1</td>\n",
              "      <td>Mixed Breed</td>\n",
              "      <td>Male</td>\n",
              "      <td>Black</td>\n",
              "      <td>No Color</td>\n",
              "      <td>Medium</td>\n",
              "      <td>Short</td>\n",
              "      <td>No</td>\n",
              "      <td>No</td>\n",
              "      <td>Healthy</td>\n",
              "      <td>0</td>\n",
              "      <td>This handsome yet cute boy is up for adoption....</td>\n",
              "      <td>3</td>\n",
              "      <td>2</td>\n",
              "    </tr>\n",
              "  </tbody>\n",
              "</table>\n",
              "</div>\n",
              "      <button class=\"colab-df-convert\" onclick=\"convertToInteractive('df-179d2d95-66f3-4671-a64e-9cf409ffe466')\"\n",
              "              title=\"Convert this dataframe to an interactive table.\"\n",
              "              style=\"display:none;\">\n",
              "        \n",
              "  <svg xmlns=\"http://www.w3.org/2000/svg\" height=\"24px\"viewBox=\"0 0 24 24\"\n",
              "       width=\"24px\">\n",
              "    <path d=\"M0 0h24v24H0V0z\" fill=\"none\"/>\n",
              "    <path d=\"M18.56 5.44l.94 2.06.94-2.06 2.06-.94-2.06-.94-.94-2.06-.94 2.06-2.06.94zm-11 1L8.5 8.5l.94-2.06 2.06-.94-2.06-.94L8.5 2.5l-.94 2.06-2.06.94zm10 10l.94 2.06.94-2.06 2.06-.94-2.06-.94-.94-2.06-.94 2.06-2.06.94z\"/><path d=\"M17.41 7.96l-1.37-1.37c-.4-.4-.92-.59-1.43-.59-.52 0-1.04.2-1.43.59L10.3 9.45l-7.72 7.72c-.78.78-.78 2.05 0 2.83L4 21.41c.39.39.9.59 1.41.59.51 0 1.02-.2 1.41-.59l7.78-7.78 2.81-2.81c.8-.78.8-2.07 0-2.86zM5.41 20L4 18.59l7.72-7.72 1.47 1.35L5.41 20z\"/>\n",
              "  </svg>\n",
              "      </button>\n",
              "      \n",
              "  <style>\n",
              "    .colab-df-container {\n",
              "      display:flex;\n",
              "      flex-wrap:wrap;\n",
              "      gap: 12px;\n",
              "    }\n",
              "\n",
              "    .colab-df-convert {\n",
              "      background-color: #E8F0FE;\n",
              "      border: none;\n",
              "      border-radius: 50%;\n",
              "      cursor: pointer;\n",
              "      display: none;\n",
              "      fill: #1967D2;\n",
              "      height: 32px;\n",
              "      padding: 0 0 0 0;\n",
              "      width: 32px;\n",
              "    }\n",
              "\n",
              "    .colab-df-convert:hover {\n",
              "      background-color: #E2EBFA;\n",
              "      box-shadow: 0px 1px 2px rgba(60, 64, 67, 0.3), 0px 1px 3px 1px rgba(60, 64, 67, 0.15);\n",
              "      fill: #174EA6;\n",
              "    }\n",
              "\n",
              "    [theme=dark] .colab-df-convert {\n",
              "      background-color: #3B4455;\n",
              "      fill: #D2E3FC;\n",
              "    }\n",
              "\n",
              "    [theme=dark] .colab-df-convert:hover {\n",
              "      background-color: #434B5C;\n",
              "      box-shadow: 0px 1px 3px 1px rgba(0, 0, 0, 0.15);\n",
              "      filter: drop-shadow(0px 1px 2px rgba(0, 0, 0, 0.3));\n",
              "      fill: #FFFFFF;\n",
              "    }\n",
              "  </style>\n",
              "\n",
              "      <script>\n",
              "        const buttonEl =\n",
              "          document.querySelector('#df-179d2d95-66f3-4671-a64e-9cf409ffe466 button.colab-df-convert');\n",
              "        buttonEl.style.display =\n",
              "          google.colab.kernel.accessAllowed ? 'block' : 'none';\n",
              "\n",
              "        async function convertToInteractive(key) {\n",
              "          const element = document.querySelector('#df-179d2d95-66f3-4671-a64e-9cf409ffe466');\n",
              "          const dataTable =\n",
              "            await google.colab.kernel.invokeFunction('convertToInteractive',\n",
              "                                                     [key], {});\n",
              "          if (!dataTable) return;\n",
              "\n",
              "          const docLinkHtml = 'Like what you see? Visit the ' +\n",
              "            '<a target=\"_blank\" href=https://colab.research.google.com/notebooks/data_table.ipynb>data table notebook</a>'\n",
              "            + ' to learn more about interactive tables.';\n",
              "          element.innerHTML = '';\n",
              "          dataTable['output_type'] = 'display_data';\n",
              "          await google.colab.output.renderOutput(dataTable, element);\n",
              "          const docLink = document.createElement('div');\n",
              "          docLink.innerHTML = docLinkHtml;\n",
              "          element.appendChild(docLink);\n",
              "        }\n",
              "      </script>\n",
              "    </div>\n",
              "  </div>\n",
              "  "
            ]
          },
          "metadata": {},
          "execution_count": 22
        }
      ]
    },
    {
      "cell_type": "code",
      "source": [
        "# Number of datapoints and columns\n",
        "len(pf_df), len(pf_df.columns)"
      ],
      "metadata": {
        "colab": {
          "base_uri": "https://localhost:8080/"
        },
        "id": "7BWt9GXPZiwr",
        "outputId": "33870240-c270-4ac2-f888-963c015590cf"
      },
      "execution_count": null,
      "outputs": [
        {
          "output_type": "execute_result",
          "data": {
            "text/plain": [
              "(11537, 14)"
            ]
          },
          "metadata": {},
          "execution_count": 19
        }
      ]
    },
    {
      "cell_type": "markdown",
      "source": [
        "# Usando arquivo prórpio"
      ],
      "metadata": {
        "id": "ZkkYI6uTH50k"
      }
    },
    {
      "cell_type": "code",
      "source": [
        "from google.colab import drive\n",
        "drive.mount('/content/drive')"
      ],
      "metadata": {
        "colab": {
          "base_uri": "https://localhost:8080/"
        },
        "id": "fRrDjkXT0oBH",
        "outputId": "99dbb0b9-4b65-492c-e625-aab68c51b112"
      },
      "execution_count": 20,
      "outputs": [
        {
          "output_type": "stream",
          "name": "stdout",
          "text": [
            "Mounted at /content/drive\n"
          ]
        }
      ]
    },
    {
      "cell_type": "markdown",
      "source": [
        "- Via pyspark"
      ],
      "metadata": {
        "id": "dGiNPVT8OwBT"
      }
    },
    {
      "cell_type": "code",
      "source": [
        "inflacao = sc.read.csv(\n",
        "    path = \"/content/drive/My Drive/IPCA.csv\", \n",
        "    inferSchema = True, \n",
        "    header = True,\n",
        "    sep = ',', \n",
        "    encoding = \"UTF-8\")"
      ],
      "metadata": {
        "id": "yR4Xz-W4IPEE"
      },
      "execution_count": null,
      "outputs": []
    },
    {
      "cell_type": "code",
      "source": [
        "# Verificando o tipo de objeto criado\n",
        "type(inflacao)"
      ],
      "metadata": {
        "colab": {
          "base_uri": "https://localhost:8080/"
        },
        "id": "ohxfofdAIiMj",
        "outputId": "15dcf131-d37c-483c-dd39-ed93d1a97307"
      },
      "execution_count": null,
      "outputs": [
        {
          "output_type": "execute_result",
          "data": {
            "text/plain": [
              "pyspark.sql.dataframe.DataFrame"
            ]
          },
          "metadata": {},
          "execution_count": 25
        }
      ]
    },
    {
      "cell_type": "code",
      "source": [
        "# Olhando o dataset\n",
        "inflacao.show()"
      ],
      "metadata": {
        "colab": {
          "base_uri": "https://localhost:8080/"
        },
        "id": "W_YgyxyAI2Mq",
        "outputId": "d1175d4f-13cd-4e48-859e-d67b6d275dd1"
      },
      "execution_count": null,
      "outputs": [
        {
          "output_type": "stream",
          "name": "stdout",
          "text": [
            "+-----------------+-----------+-----------------------+-------------------+\n",
            "|MES DE REFERENCIA|IPCA NO MES|IPCA ACUMULADO 12 MESES|IPCA ACUMULADO 2022|\n",
            "+-----------------+-----------+-----------------------+-------------------+\n",
            "|              Jan|      0.54%|                 10.38%|              0.54%|\n",
            "|              Fev|      1.01%|                 10.54%|              1.56%|\n",
            "|              Mar|      1.62%|                 11.30%|              3.20%|\n",
            "|              Abr|      1.06%|                 12.13%|              4.29%|\n",
            "|              Mai|      0.47%|                 11.73%|              4.78%|\n",
            "|              Jun|      0.67%|                 11.89%|              5.49%|\n",
            "|              Jul|     -0.68%|                 10.07%|              4.77%|\n",
            "|              Ago|     -0.36%|                  8.73%|              4.39%|\n",
            "|              Set|     -0.29%|                  7.17%|              4.09%|\n",
            "|              Out|      0.59%|                  6.47%|              4.70%|\n",
            "|              Nov|      0.41%|                  5.90%|              5.13%|\n",
            "|              Dez|      0.62%|                  5.79%|              5.79%|\n",
            "+-----------------+-----------+-----------------------+-------------------+\n",
            "\n"
          ]
        }
      ]
    },
    {
      "cell_type": "code",
      "source": [
        "inflacao.printSchema()"
      ],
      "metadata": {
        "colab": {
          "base_uri": "https://localhost:8080/"
        },
        "id": "dW6UHnivDAwo",
        "outputId": "95b15858-7e5a-43aa-e183-758b89fcd537"
      },
      "execution_count": null,
      "outputs": [
        {
          "output_type": "stream",
          "name": "stdout",
          "text": [
            "root\n",
            " |-- MES DE REFERENCIA: string (nullable = true)\n",
            " |-- IPCA NO MES: string (nullable = true)\n",
            " |-- IPCA ACUMULADO 12 MESES: string (nullable = true)\n",
            " |-- IPCA ACUMULADO 2022: string (nullable = true)\n",
            "\n"
          ]
        }
      ]
    },
    {
      "cell_type": "markdown",
      "source": [
        "- Via ElasticSearch"
      ],
      "metadata": {
        "id": "xG98QBtFO6CV"
      }
    },
    {
      "cell_type": "code",
      "source": [
        "import pandas as pd \n",
        "ipca2022 = pd.read_csv('/content/drive/My Drive/IPCA.csv', sep=\",\")"
      ],
      "metadata": {
        "id": "P_gVM2o406S8"
      },
      "execution_count": 21,
      "outputs": []
    },
    {
      "cell_type": "code",
      "source": [
        "ipca2022.head()"
      ],
      "metadata": {
        "colab": {
          "base_uri": "https://localhost:8080/",
          "height": 206
        },
        "id": "EYZlm2peJ_B5",
        "outputId": "6771b077-8c30-46a8-a2d5-712dcd729bd2"
      },
      "execution_count": 22,
      "outputs": [
        {
          "output_type": "execute_result",
          "data": {
            "text/plain": [
              "  MES DE REFERENCIA IPCA NO MES IPCA ACUMULADO 12 MESES IPCA ACUMULADO 2022\n",
              "0               Jan       0.54%                  10.38%               0.54%\n",
              "1               Fev       1.01%                  10.54%               1.56%\n",
              "2               Mar       1.62%                  11.30%               3.20%\n",
              "3               Abr       1.06%                  12.13%               4.29%\n",
              "4               Mai       0.47%                  11.73%               4.78%"
            ],
            "text/html": [
              "\n",
              "  <div id=\"df-c751ef98-5ced-4607-b746-38462a3e235e\">\n",
              "    <div class=\"colab-df-container\">\n",
              "      <div>\n",
              "<style scoped>\n",
              "    .dataframe tbody tr th:only-of-type {\n",
              "        vertical-align: middle;\n",
              "    }\n",
              "\n",
              "    .dataframe tbody tr th {\n",
              "        vertical-align: top;\n",
              "    }\n",
              "\n",
              "    .dataframe thead th {\n",
              "        text-align: right;\n",
              "    }\n",
              "</style>\n",
              "<table border=\"1\" class=\"dataframe\">\n",
              "  <thead>\n",
              "    <tr style=\"text-align: right;\">\n",
              "      <th></th>\n",
              "      <th>MES DE REFERENCIA</th>\n",
              "      <th>IPCA NO MES</th>\n",
              "      <th>IPCA ACUMULADO 12 MESES</th>\n",
              "      <th>IPCA ACUMULADO 2022</th>\n",
              "    </tr>\n",
              "  </thead>\n",
              "  <tbody>\n",
              "    <tr>\n",
              "      <th>0</th>\n",
              "      <td>Jan</td>\n",
              "      <td>0.54%</td>\n",
              "      <td>10.38%</td>\n",
              "      <td>0.54%</td>\n",
              "    </tr>\n",
              "    <tr>\n",
              "      <th>1</th>\n",
              "      <td>Fev</td>\n",
              "      <td>1.01%</td>\n",
              "      <td>10.54%</td>\n",
              "      <td>1.56%</td>\n",
              "    </tr>\n",
              "    <tr>\n",
              "      <th>2</th>\n",
              "      <td>Mar</td>\n",
              "      <td>1.62%</td>\n",
              "      <td>11.30%</td>\n",
              "      <td>3.20%</td>\n",
              "    </tr>\n",
              "    <tr>\n",
              "      <th>3</th>\n",
              "      <td>Abr</td>\n",
              "      <td>1.06%</td>\n",
              "      <td>12.13%</td>\n",
              "      <td>4.29%</td>\n",
              "    </tr>\n",
              "    <tr>\n",
              "      <th>4</th>\n",
              "      <td>Mai</td>\n",
              "      <td>0.47%</td>\n",
              "      <td>11.73%</td>\n",
              "      <td>4.78%</td>\n",
              "    </tr>\n",
              "  </tbody>\n",
              "</table>\n",
              "</div>\n",
              "      <button class=\"colab-df-convert\" onclick=\"convertToInteractive('df-c751ef98-5ced-4607-b746-38462a3e235e')\"\n",
              "              title=\"Convert this dataframe to an interactive table.\"\n",
              "              style=\"display:none;\">\n",
              "        \n",
              "  <svg xmlns=\"http://www.w3.org/2000/svg\" height=\"24px\"viewBox=\"0 0 24 24\"\n",
              "       width=\"24px\">\n",
              "    <path d=\"M0 0h24v24H0V0z\" fill=\"none\"/>\n",
              "    <path d=\"M18.56 5.44l.94 2.06.94-2.06 2.06-.94-2.06-.94-.94-2.06-.94 2.06-2.06.94zm-11 1L8.5 8.5l.94-2.06 2.06-.94-2.06-.94L8.5 2.5l-.94 2.06-2.06.94zm10 10l.94 2.06.94-2.06 2.06-.94-2.06-.94-.94-2.06-.94 2.06-2.06.94z\"/><path d=\"M17.41 7.96l-1.37-1.37c-.4-.4-.92-.59-1.43-.59-.52 0-1.04.2-1.43.59L10.3 9.45l-7.72 7.72c-.78.78-.78 2.05 0 2.83L4 21.41c.39.39.9.59 1.41.59.51 0 1.02-.2 1.41-.59l7.78-7.78 2.81-2.81c.8-.78.8-2.07 0-2.86zM5.41 20L4 18.59l7.72-7.72 1.47 1.35L5.41 20z\"/>\n",
              "  </svg>\n",
              "      </button>\n",
              "      \n",
              "  <style>\n",
              "    .colab-df-container {\n",
              "      display:flex;\n",
              "      flex-wrap:wrap;\n",
              "      gap: 12px;\n",
              "    }\n",
              "\n",
              "    .colab-df-convert {\n",
              "      background-color: #E8F0FE;\n",
              "      border: none;\n",
              "      border-radius: 50%;\n",
              "      cursor: pointer;\n",
              "      display: none;\n",
              "      fill: #1967D2;\n",
              "      height: 32px;\n",
              "      padding: 0 0 0 0;\n",
              "      width: 32px;\n",
              "    }\n",
              "\n",
              "    .colab-df-convert:hover {\n",
              "      background-color: #E2EBFA;\n",
              "      box-shadow: 0px 1px 2px rgba(60, 64, 67, 0.3), 0px 1px 3px 1px rgba(60, 64, 67, 0.15);\n",
              "      fill: #174EA6;\n",
              "    }\n",
              "\n",
              "    [theme=dark] .colab-df-convert {\n",
              "      background-color: #3B4455;\n",
              "      fill: #D2E3FC;\n",
              "    }\n",
              "\n",
              "    [theme=dark] .colab-df-convert:hover {\n",
              "      background-color: #434B5C;\n",
              "      box-shadow: 0px 1px 3px 1px rgba(0, 0, 0, 0.15);\n",
              "      filter: drop-shadow(0px 1px 2px rgba(0, 0, 0, 0.3));\n",
              "      fill: #FFFFFF;\n",
              "    }\n",
              "  </style>\n",
              "\n",
              "      <script>\n",
              "        const buttonEl =\n",
              "          document.querySelector('#df-c751ef98-5ced-4607-b746-38462a3e235e button.colab-df-convert');\n",
              "        buttonEl.style.display =\n",
              "          google.colab.kernel.accessAllowed ? 'block' : 'none';\n",
              "\n",
              "        async function convertToInteractive(key) {\n",
              "          const element = document.querySelector('#df-c751ef98-5ced-4607-b746-38462a3e235e');\n",
              "          const dataTable =\n",
              "            await google.colab.kernel.invokeFunction('convertToInteractive',\n",
              "                                                     [key], {});\n",
              "          if (!dataTable) return;\n",
              "\n",
              "          const docLinkHtml = 'Like what you see? Visit the ' +\n",
              "            '<a target=\"_blank\" href=https://colab.research.google.com/notebooks/data_table.ipynb>data table notebook</a>'\n",
              "            + ' to learn more about interactive tables.';\n",
              "          element.innerHTML = '';\n",
              "          dataTable['output_type'] = 'display_data';\n",
              "          await google.colab.output.renderOutput(dataTable, element);\n",
              "          const docLink = document.createElement('div');\n",
              "          docLink.innerHTML = docLinkHtml;\n",
              "          element.appendChild(docLink);\n",
              "        }\n",
              "      </script>\n",
              "    </div>\n",
              "  </div>\n",
              "  "
            ]
          },
          "metadata": {},
          "execution_count": 22
        }
      ]
    },
    {
      "cell_type": "code",
      "source": [
        "ES_NODES = \"http://localhost:9200\"\n",
        "\n",
        "def prepare_es_data(index, doc_type, df):\n",
        "  records = df.to_dict(orient=\"records\")\n",
        "  es_data = []\n",
        "  for idx, record in enumerate(records):\n",
        "    meta_dict = {\n",
        "          \"index\": {\n",
        "              \"_index\": index, \n",
        "              \"_type\": doc_type, \n",
        "              \"_id\": idx\n",
        "          }\n",
        "      }\n",
        "    es_data.append(meta_dict)\n",
        "    es_data.append(record)\n",
        "\n",
        "  return es_data\n",
        "\n",
        "def index_es_data(index, es_data):\n",
        "  es_client = Elasticsearch(hosts = [ES_NODES])\n",
        "  if es_client.indices.exists(index = index):\n",
        "      print(\"deleting the '{}' index.\".format(index))\n",
        "      res = es_client.indices.delete(index=index)\n",
        "      print(\"Response from server: {}\".format(res))\n",
        "\n",
        "  print(\"creating the '{}' index.\".format(index))\n",
        "  res = es_client.indices.create(index=index)\n",
        "  print(\"Response from server: {}\".format(res))\n",
        "\n",
        "  print(\"bulk index the data\")\n",
        "  res = es_client.bulk(index=index, body=es_data, refresh = True)\n",
        "  print(\"Errors: {}, Num of records indexed: {}\".format(res[\"errors\"], len(res[\"items\"])))"
      ],
      "metadata": {
        "id": "b-oPqvXn2ei5"
      },
      "execution_count": 23,
      "outputs": []
    },
    {
      "cell_type": "code",
      "source": [
        "ipca2022_es_data = prepare_es_data(index=\"ipca\", doc_type=\"mes\", df=ipca2022)\n",
        "index_es_data(index=\"ipca\", es_data=ipca2022_es_data)\n",
        "time.sleep(3)"
      ],
      "metadata": {
        "colab": {
          "base_uri": "https://localhost:8080/"
        },
        "id": "pgcFeOiP2k5g",
        "outputId": "545449d4-4715-495e-9f76-d0814d60d2c4"
      },
      "execution_count": 24,
      "outputs": [
        {
          "output_type": "stream",
          "name": "stderr",
          "text": [
            "<ipython-input-23-16b4e0734aae>:21: ElasticsearchWarning: Elasticsearch built-in security features are not enabled. Without authentication, your cluster could be accessible to anyone. See https://www.elastic.co/guide/en/elasticsearch/reference/7.15/security-minimal-setup.html to enable security.\n",
            "  if es_client.indices.exists(index = index):\n"
          ]
        },
        {
          "output_type": "stream",
          "name": "stdout",
          "text": [
            "creating the 'ipca' index.\n"
          ]
        },
        {
          "output_type": "stream",
          "name": "stderr",
          "text": [
            "<ipython-input-23-16b4e0734aae>:27: ElasticsearchWarning: Elasticsearch built-in security features are not enabled. Without authentication, your cluster could be accessible to anyone. See https://www.elastic.co/guide/en/elasticsearch/reference/7.15/security-minimal-setup.html to enable security.\n",
            "  res = es_client.indices.create(index=index)\n",
            "<ipython-input-23-16b4e0734aae>:31: DeprecationWarning: The 'body' parameter is deprecated and will be removed in a future version. Instead use the 'operations' parameter. See https://github.com/elastic/elasticsearch-py/issues/1698 for more information\n",
            "  res = es_client.bulk(index=index, body=es_data, refresh = True)\n"
          ]
        },
        {
          "output_type": "stream",
          "name": "stdout",
          "text": [
            "Response from server: {'acknowledged': True, 'shards_acknowledged': True, 'index': 'ipca'}\n",
            "bulk index the data\n"
          ]
        },
        {
          "output_type": "stream",
          "name": "stderr",
          "text": [
            "<ipython-input-23-16b4e0734aae>:31: ElasticsearchWarning: Elasticsearch built-in security features are not enabled. Without authentication, your cluster could be accessible to anyone. See https://www.elastic.co/guide/en/elasticsearch/reference/7.15/security-minimal-setup.html to enable security.\n",
            "  res = es_client.bulk(index=index, body=es_data, refresh = True)\n",
            "<ipython-input-23-16b4e0734aae>:31: ElasticsearchWarning: [types removal] Specifying types in bulk requests is deprecated.\n",
            "  res = es_client.bulk(index=index, body=es_data, refresh = True)\n"
          ]
        },
        {
          "output_type": "stream",
          "name": "stdout",
          "text": [
            "Errors: False, Num of records indexed: 12\n"
          ]
        }
      ]
    },
    {
      "cell_type": "code",
      "source": [
        "es = Elasticsearch(hosts = [{\"host\":\"localhost\", \"port\":9200, \"scheme\": \"http\"}])\n",
        "# Check if python is connected to elasticsearch\n",
        "es.ping()"
      ],
      "metadata": {
        "colab": {
          "base_uri": "https://localhost:8080/"
        },
        "id": "9u1_zI8n_QPN",
        "outputId": "0f277aed-b42a-4f56-e0a2-d1f9b23e6726"
      },
      "execution_count": 28,
      "outputs": [
        {
          "output_type": "stream",
          "name": "stderr",
          "text": [
            "<ipython-input-28-9aa3f0dac12f>:3: ElasticsearchWarning: Elasticsearch built-in security features are not enabled. Without authentication, your cluster could be accessible to anyone. See https://www.elastic.co/guide/en/elasticsearch/reference/7.15/security-minimal-setup.html to enable security.\n",
            "  es.ping()\n"
          ]
        },
        {
          "output_type": "execute_result",
          "data": {
            "text/plain": [
              "True"
            ]
          },
          "metadata": {},
          "execution_count": 28
        }
      ]
    },
    {
      "cell_type": "code",
      "source": [
        "# Get 10 sample of data\n",
        "query = es.search(\n",
        "    index=\"ipca\",\n",
        "    body={\n",
        "      \"size\":10,\n",
        "      \"query\": {\n",
        "        \"match_all\":{}\n",
        "      }\n",
        "    }\n",
        ")\n",
        "\n",
        "output = pd.json_normalize((query['hits']['hits']))\n",
        "output"
      ],
      "metadata": {
        "colab": {
          "base_uri": "https://localhost:8080/",
          "height": 452
        },
        "id": "eor9mAqJ16xi",
        "outputId": "e2233ef0-7a9a-4953-b41e-71d4ce27cd8f"
      },
      "execution_count": 29,
      "outputs": [
        {
          "output_type": "stream",
          "name": "stderr",
          "text": [
            "<ipython-input-29-83fc3410e5e9>:2: DeprecationWarning: The 'body' parameter is deprecated and will be removed in a future version. Instead use individual parameters.\n",
            "  query = es.search(\n",
            "<ipython-input-29-83fc3410e5e9>:2: ElasticsearchWarning: Elasticsearch built-in security features are not enabled. Without authentication, your cluster could be accessible to anyone. See https://www.elastic.co/guide/en/elasticsearch/reference/7.15/security-minimal-setup.html to enable security.\n",
            "  query = es.search(\n"
          ]
        },
        {
          "output_type": "execute_result",
          "data": {
            "text/plain": [
              "  _index _type _id  _score _source.MES DE REFERENCIA _source.IPCA NO MES  \\\n",
              "0   ipca   mes   0     1.0                       Jan               0.54%   \n",
              "1   ipca   mes   1     1.0                       Fev               1.01%   \n",
              "2   ipca   mes   2     1.0                       Mar               1.62%   \n",
              "3   ipca   mes   3     1.0                       Abr               1.06%   \n",
              "4   ipca   mes   4     1.0                       Mai               0.47%   \n",
              "5   ipca   mes   5     1.0                       Jun               0.67%   \n",
              "6   ipca   mes   6     1.0                       Jul              -0.68%   \n",
              "7   ipca   mes   7     1.0                       Ago              -0.36%   \n",
              "8   ipca   mes   8     1.0                       Set              -0.29%   \n",
              "9   ipca   mes   9     1.0                       Out               0.59%   \n",
              "\n",
              "  _source.IPCA ACUMULADO 12 MESES _source.IPCA ACUMULADO 2022  \n",
              "0                          10.38%                       0.54%  \n",
              "1                          10.54%                       1.56%  \n",
              "2                          11.30%                       3.20%  \n",
              "3                          12.13%                       4.29%  \n",
              "4                          11.73%                       4.78%  \n",
              "5                          11.89%                       5.49%  \n",
              "6                          10.07%                       4.77%  \n",
              "7                           8.73%                       4.39%  \n",
              "8                           7.17%                       4.09%  \n",
              "9                           6.47%                       4.70%  "
            ],
            "text/html": [
              "\n",
              "  <div id=\"df-de59b888-f904-43b9-a00a-136b90d100b6\">\n",
              "    <div class=\"colab-df-container\">\n",
              "      <div>\n",
              "<style scoped>\n",
              "    .dataframe tbody tr th:only-of-type {\n",
              "        vertical-align: middle;\n",
              "    }\n",
              "\n",
              "    .dataframe tbody tr th {\n",
              "        vertical-align: top;\n",
              "    }\n",
              "\n",
              "    .dataframe thead th {\n",
              "        text-align: right;\n",
              "    }\n",
              "</style>\n",
              "<table border=\"1\" class=\"dataframe\">\n",
              "  <thead>\n",
              "    <tr style=\"text-align: right;\">\n",
              "      <th></th>\n",
              "      <th>_index</th>\n",
              "      <th>_type</th>\n",
              "      <th>_id</th>\n",
              "      <th>_score</th>\n",
              "      <th>_source.MES DE REFERENCIA</th>\n",
              "      <th>_source.IPCA NO MES</th>\n",
              "      <th>_source.IPCA ACUMULADO 12 MESES</th>\n",
              "      <th>_source.IPCA ACUMULADO 2022</th>\n",
              "    </tr>\n",
              "  </thead>\n",
              "  <tbody>\n",
              "    <tr>\n",
              "      <th>0</th>\n",
              "      <td>ipca</td>\n",
              "      <td>mes</td>\n",
              "      <td>0</td>\n",
              "      <td>1.0</td>\n",
              "      <td>Jan</td>\n",
              "      <td>0.54%</td>\n",
              "      <td>10.38%</td>\n",
              "      <td>0.54%</td>\n",
              "    </tr>\n",
              "    <tr>\n",
              "      <th>1</th>\n",
              "      <td>ipca</td>\n",
              "      <td>mes</td>\n",
              "      <td>1</td>\n",
              "      <td>1.0</td>\n",
              "      <td>Fev</td>\n",
              "      <td>1.01%</td>\n",
              "      <td>10.54%</td>\n",
              "      <td>1.56%</td>\n",
              "    </tr>\n",
              "    <tr>\n",
              "      <th>2</th>\n",
              "      <td>ipca</td>\n",
              "      <td>mes</td>\n",
              "      <td>2</td>\n",
              "      <td>1.0</td>\n",
              "      <td>Mar</td>\n",
              "      <td>1.62%</td>\n",
              "      <td>11.30%</td>\n",
              "      <td>3.20%</td>\n",
              "    </tr>\n",
              "    <tr>\n",
              "      <th>3</th>\n",
              "      <td>ipca</td>\n",
              "      <td>mes</td>\n",
              "      <td>3</td>\n",
              "      <td>1.0</td>\n",
              "      <td>Abr</td>\n",
              "      <td>1.06%</td>\n",
              "      <td>12.13%</td>\n",
              "      <td>4.29%</td>\n",
              "    </tr>\n",
              "    <tr>\n",
              "      <th>4</th>\n",
              "      <td>ipca</td>\n",
              "      <td>mes</td>\n",
              "      <td>4</td>\n",
              "      <td>1.0</td>\n",
              "      <td>Mai</td>\n",
              "      <td>0.47%</td>\n",
              "      <td>11.73%</td>\n",
              "      <td>4.78%</td>\n",
              "    </tr>\n",
              "    <tr>\n",
              "      <th>5</th>\n",
              "      <td>ipca</td>\n",
              "      <td>mes</td>\n",
              "      <td>5</td>\n",
              "      <td>1.0</td>\n",
              "      <td>Jun</td>\n",
              "      <td>0.67%</td>\n",
              "      <td>11.89%</td>\n",
              "      <td>5.49%</td>\n",
              "    </tr>\n",
              "    <tr>\n",
              "      <th>6</th>\n",
              "      <td>ipca</td>\n",
              "      <td>mes</td>\n",
              "      <td>6</td>\n",
              "      <td>1.0</td>\n",
              "      <td>Jul</td>\n",
              "      <td>-0.68%</td>\n",
              "      <td>10.07%</td>\n",
              "      <td>4.77%</td>\n",
              "    </tr>\n",
              "    <tr>\n",
              "      <th>7</th>\n",
              "      <td>ipca</td>\n",
              "      <td>mes</td>\n",
              "      <td>7</td>\n",
              "      <td>1.0</td>\n",
              "      <td>Ago</td>\n",
              "      <td>-0.36%</td>\n",
              "      <td>8.73%</td>\n",
              "      <td>4.39%</td>\n",
              "    </tr>\n",
              "    <tr>\n",
              "      <th>8</th>\n",
              "      <td>ipca</td>\n",
              "      <td>mes</td>\n",
              "      <td>8</td>\n",
              "      <td>1.0</td>\n",
              "      <td>Set</td>\n",
              "      <td>-0.29%</td>\n",
              "      <td>7.17%</td>\n",
              "      <td>4.09%</td>\n",
              "    </tr>\n",
              "    <tr>\n",
              "      <th>9</th>\n",
              "      <td>ipca</td>\n",
              "      <td>mes</td>\n",
              "      <td>9</td>\n",
              "      <td>1.0</td>\n",
              "      <td>Out</td>\n",
              "      <td>0.59%</td>\n",
              "      <td>6.47%</td>\n",
              "      <td>4.70%</td>\n",
              "    </tr>\n",
              "  </tbody>\n",
              "</table>\n",
              "</div>\n",
              "      <button class=\"colab-df-convert\" onclick=\"convertToInteractive('df-de59b888-f904-43b9-a00a-136b90d100b6')\"\n",
              "              title=\"Convert this dataframe to an interactive table.\"\n",
              "              style=\"display:none;\">\n",
              "        \n",
              "  <svg xmlns=\"http://www.w3.org/2000/svg\" height=\"24px\"viewBox=\"0 0 24 24\"\n",
              "       width=\"24px\">\n",
              "    <path d=\"M0 0h24v24H0V0z\" fill=\"none\"/>\n",
              "    <path d=\"M18.56 5.44l.94 2.06.94-2.06 2.06-.94-2.06-.94-.94-2.06-.94 2.06-2.06.94zm-11 1L8.5 8.5l.94-2.06 2.06-.94-2.06-.94L8.5 2.5l-.94 2.06-2.06.94zm10 10l.94 2.06.94-2.06 2.06-.94-2.06-.94-.94-2.06-.94 2.06-2.06.94z\"/><path d=\"M17.41 7.96l-1.37-1.37c-.4-.4-.92-.59-1.43-.59-.52 0-1.04.2-1.43.59L10.3 9.45l-7.72 7.72c-.78.78-.78 2.05 0 2.83L4 21.41c.39.39.9.59 1.41.59.51 0 1.02-.2 1.41-.59l7.78-7.78 2.81-2.81c.8-.78.8-2.07 0-2.86zM5.41 20L4 18.59l7.72-7.72 1.47 1.35L5.41 20z\"/>\n",
              "  </svg>\n",
              "      </button>\n",
              "      \n",
              "  <style>\n",
              "    .colab-df-container {\n",
              "      display:flex;\n",
              "      flex-wrap:wrap;\n",
              "      gap: 12px;\n",
              "    }\n",
              "\n",
              "    .colab-df-convert {\n",
              "      background-color: #E8F0FE;\n",
              "      border: none;\n",
              "      border-radius: 50%;\n",
              "      cursor: pointer;\n",
              "      display: none;\n",
              "      fill: #1967D2;\n",
              "      height: 32px;\n",
              "      padding: 0 0 0 0;\n",
              "      width: 32px;\n",
              "    }\n",
              "\n",
              "    .colab-df-convert:hover {\n",
              "      background-color: #E2EBFA;\n",
              "      box-shadow: 0px 1px 2px rgba(60, 64, 67, 0.3), 0px 1px 3px 1px rgba(60, 64, 67, 0.15);\n",
              "      fill: #174EA6;\n",
              "    }\n",
              "\n",
              "    [theme=dark] .colab-df-convert {\n",
              "      background-color: #3B4455;\n",
              "      fill: #D2E3FC;\n",
              "    }\n",
              "\n",
              "    [theme=dark] .colab-df-convert:hover {\n",
              "      background-color: #434B5C;\n",
              "      box-shadow: 0px 1px 3px 1px rgba(0, 0, 0, 0.15);\n",
              "      filter: drop-shadow(0px 1px 2px rgba(0, 0, 0, 0.3));\n",
              "      fill: #FFFFFF;\n",
              "    }\n",
              "  </style>\n",
              "\n",
              "      <script>\n",
              "        const buttonEl =\n",
              "          document.querySelector('#df-de59b888-f904-43b9-a00a-136b90d100b6 button.colab-df-convert');\n",
              "        buttonEl.style.display =\n",
              "          google.colab.kernel.accessAllowed ? 'block' : 'none';\n",
              "\n",
              "        async function convertToInteractive(key) {\n",
              "          const element = document.querySelector('#df-de59b888-f904-43b9-a00a-136b90d100b6');\n",
              "          const dataTable =\n",
              "            await google.colab.kernel.invokeFunction('convertToInteractive',\n",
              "                                                     [key], {});\n",
              "          if (!dataTable) return;\n",
              "\n",
              "          const docLinkHtml = 'Like what you see? Visit the ' +\n",
              "            '<a target=\"_blank\" href=https://colab.research.google.com/notebooks/data_table.ipynb>data table notebook</a>'\n",
              "            + ' to learn more about interactive tables.';\n",
              "          element.innerHTML = '';\n",
              "          dataTable['output_type'] = 'display_data';\n",
              "          await google.colab.output.renderOutput(dataTable, element);\n",
              "          const docLink = document.createElement('div');\n",
              "          docLink.innerHTML = docLinkHtml;\n",
              "          element.appendChild(docLink);\n",
              "        }\n",
              "      </script>\n",
              "    </div>\n",
              "  </div>\n",
              "  "
            ]
          },
          "metadata": {},
          "execution_count": 29
        }
      ]
    }
  ]
}