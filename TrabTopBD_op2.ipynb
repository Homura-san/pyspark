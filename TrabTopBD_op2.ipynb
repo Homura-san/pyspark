{
  "nbformat": 4,
  "nbformat_minor": 0,
  "metadata": {
    "colab": {
      "provenance": [],
      "authorship_tag": "ABX9TyNMxHSOXnUSJvOWhpTaOpTY",
      "include_colab_link": true
    },
    "kernelspec": {
      "name": "python3",
      "display_name": "Python 3"
    },
    "language_info": {
      "name": "python"
    }
  },
  "cells": [
    {
      "cell_type": "markdown",
      "metadata": {
        "id": "view-in-github",
        "colab_type": "text"
      },
      "source": [
        "<a href=\"https://colab.research.google.com/github/Homura-san/pyspark/blob/main/TrabTopBD_op2.ipynb\" target=\"_parent\"><img src=\"https://colab.research.google.com/assets/colab-badge.svg\" alt=\"Open In Colab\"/></a>"
      ]
    },
    {
      "cell_type": "code",
      "execution_count": 1,
      "metadata": {
        "id": "pXiM3-QpRidS"
      },
      "outputs": [],
      "source": [
        "!apt-get install openjdk-8-jdk-headless -qq > /dev/null"
      ]
    },
    {
      "cell_type": "code",
      "source": [
        "# Fazendo download\n",
        "!wget -q https://archive.apache.org/dist/spark/spark-3.1.2/spark-3.1.2-bin-hadoop2.7.tgz\n",
        "\n",
        "# Descompactando os arquivos\n",
        "!tar xf spark-3.1.2-bin-hadoop2.7.tgz"
      ],
      "metadata": {
        "id": "lIvtv4dmRr5h"
      },
      "execution_count": 2,
      "outputs": []
    },
    {
      "cell_type": "code",
      "source": [
        "!tar xf spark-3.1.2-bin-hadoop2.7.tgz"
      ],
      "metadata": {
        "id": "eLi1VxmMRx0A"
      },
      "execution_count": 3,
      "outputs": []
    },
    {
      "cell_type": "code",
      "source": [
        "import os\n",
        "\n",
        "# Definindo a variável de ambiente do Java\n",
        "os.environ[\"JAVA_HOME\"] = \"/usr/lib/jvm/java-8-openjdk-amd64\"\n",
        "\n",
        "# Definindo a variável de ambiente do Spark\n",
        "os.environ[\"SPARK_HOME\"] = \"/content/spark-3.1.2-bin-hadoop2.7\""
      ],
      "metadata": {
        "id": "lvR34FDHR1B-"
      },
      "execution_count": 4,
      "outputs": []
    },
    {
      "cell_type": "code",
      "source": [
        "# instalando a findspark\n",
        "!pip install -q findspark"
      ],
      "metadata": {
        "id": "gdT7GjVFR3mH"
      },
      "execution_count": 5,
      "outputs": []
    },
    {
      "cell_type": "code",
      "source": [
        "# Importando a findspark\n",
        "import findspark\n",
        "\n",
        "# Iniciando o findspark\n",
        "findspark.init()"
      ],
      "metadata": {
        "id": "MDABEbC4R6Nh"
      },
      "execution_count": 6,
      "outputs": []
    },
    {
      "cell_type": "code",
      "source": [
        "# importando o pacote necessário para iniciar uma seção Spark\n",
        "from pyspark.sql import SparkSession\n",
        "\n",
        "# iniciando o spark context\n",
        "sc = SparkSession.builder.master('local[*]').getOrCreate()\n",
        "\n",
        "# Verificando se a sessão foi criada\n",
        "sc"
      ],
      "metadata": {
        "colab": {
          "base_uri": "https://localhost:8080/",
          "height": 219
        },
        "id": "3mBZof9xR8kv",
        "outputId": "1c1fd218-d1b9-427a-a86c-37d1ad2a7dc9"
      },
      "execution_count": 7,
      "outputs": [
        {
          "output_type": "execute_result",
          "data": {
            "text/plain": [
              "<pyspark.sql.session.SparkSession at 0x7f284834cd90>"
            ],
            "text/html": [
              "\n",
              "            <div>\n",
              "                <p><b>SparkSession - in-memory</b></p>\n",
              "                \n",
              "        <div>\n",
              "            <p><b>SparkContext</b></p>\n",
              "\n",
              "            <p><a href=\"http://f243cab1e711:4040\">Spark UI</a></p>\n",
              "\n",
              "            <dl>\n",
              "              <dt>Version</dt>\n",
              "                <dd><code>v3.1.2</code></dd>\n",
              "              <dt>Master</dt>\n",
              "                <dd><code>local[*]</code></dd>\n",
              "              <dt>AppName</dt>\n",
              "                <dd><code>pyspark-shell</code></dd>\n",
              "            </dl>\n",
              "        </div>\n",
              "        \n",
              "            </div>\n",
              "        "
            ]
          },
          "metadata": {},
          "execution_count": 7
        }
      ]
    },
    {
      "cell_type": "code",
      "source": [
        "from google.colab import drive\n",
        "drive.mount('/content/drive')"
      ],
      "metadata": {
        "id": "nf5zSyquSddG",
        "colab": {
          "base_uri": "https://localhost:8080/"
        },
        "outputId": "65b432bf-52dc-4b3a-b8d7-b3b33915b161"
      },
      "execution_count": 8,
      "outputs": [
        {
          "output_type": "stream",
          "name": "stdout",
          "text": [
            "Mounted at /content/drive\n"
          ]
        }
      ]
    },
    {
      "cell_type": "markdown",
      "source": [
        "# Preparando datasets"
      ],
      "metadata": {
        "id": "EBEaMWRJSh5t"
      }
    },
    {
      "cell_type": "code",
      "source": [
        "import pandas as pd\n",
        "from pyspark.sql import functions as F\n",
        "from pyspark.ml.feature import PCA\n",
        "#from pyspark.ml.feature import OneHotEncoderEstimator, StringIndexer, VectorAssembler\n",
        "from pyspark.ml import Pipeline"
      ],
      "metadata": {
        "id": "cU12IkmgHpqJ"
      },
      "execution_count": 50,
      "outputs": []
    },
    {
      "cell_type": "code",
      "source": [
        "dadosCovid = sc.read.csv(\n",
        "    path = \"/content/drive/My Drive/dadosGerais2021.csv\", \n",
        "    inferSchema = True, \n",
        "    header = True,\n",
        "    sep = ',', \n",
        "    encoding = \"UTF-8\")"
      ],
      "metadata": {
        "id": "qMTRZh7dno-b"
      },
      "execution_count": 9,
      "outputs": []
    },
    {
      "cell_type": "code",
      "source": [
        "vacinacaoCovid = sc.read.csv(\n",
        "    path = \"/content/drive/My Drive/vacinacaoPorDia.csv\", \n",
        "    inferSchema = True, \n",
        "    header = True,\n",
        "    sep = ',', \n",
        "    encoding = \"UTF-8\")"
      ],
      "metadata": {
        "id": "m_g4wG0FLz72"
      },
      "execution_count": 10,
      "outputs": []
    },
    {
      "cell_type": "code",
      "source": [
        "type(dadosCovid)"
      ],
      "metadata": {
        "colab": {
          "base_uri": "https://localhost:8080/"
        },
        "id": "aQXCSzXcp1cN",
        "outputId": "9631de1e-7cfa-4910-f58f-11ef291df52f"
      },
      "execution_count": null,
      "outputs": [
        {
          "output_type": "execute_result",
          "data": {
            "text/plain": [
              "pyspark.sql.dataframe.DataFrame"
            ]
          },
          "metadata": {},
          "execution_count": 10
        }
      ]
    },
    {
      "cell_type": "code",
      "source": [
        "dadosCovid.show()"
      ],
      "metadata": {
        "colab": {
          "base_uri": "https://localhost:8080/"
        },
        "id": "UPRN0zMRqUWM",
        "outputId": "f95fd0cd-e186-46d5-bf54-9bd798b6d1f9"
      },
      "execution_count": null,
      "outputs": [
        {
          "output_type": "stream",
          "name": "stdout",
          "text": [
            "+-------------------+------------------+--------------------+-----------------------+--------+----+-----------------------+-----+-----+---------------+--------+--------------------+---------------------------------------------+-------------------------------------------+----------------------------------------------------------------------+--------+---------------+--------------------------+----------+\n",
            "|DATA_DA_NOTIFICACAO|DATA_DE_NASCIMENTO| CLASSIFICACAO_FINAL|MUNICIPIO_DE_RESIDENCIA|RACA_COR|SEXO|E_PROFISSIONAL_DE_SAUDE|FEBRE|TOSSE|DOR_DE_GARGANTA|DISPNEIA|              OUTROS|DOENCAS_RESPIRATORIAS_CRONICAS_DESCOMPENSADAS|DOENCAS_RENAIS_CRONICAS_EM_ESTAGIO_AVANCADO|PORTADOR_DE_DOENCAS_CROMOSSOMICAS_OU_ESTADO_DE_FRAGILIDADE_IMUNOLOGICA|DIABETES|IMUNOSSUPRESSAO|DOENCAS_CARDIACAS_CRONICAS|    STATUS|\n",
            "+-------------------+------------------+--------------------+-----------------------+--------+----+-----------------------+-----+-----+---------------+--------+--------------------+---------------------------------------------+-------------------------------------------+----------------------------------------------------------------------+--------+---------------+--------------------------+----------+\n",
            "|         2021-01-01|        1982-03-23|Confirmado Labora...|               SALVADOR|Ignorado|   M|                    Nao|  Nao|  Sim|            Sim|     Nao|   CALAFRIOS,MIALGIA|                                          Nao|                                        Nao|                                                                   Nao|     Nao|            Nao|                       Nao|Confirmado|\n",
            "|         2021-01-01|        1981-08-05|Confirmado Labora...|               SALVADOR|   Parda|   F|                    Nao|  Nao|  Sim|            Nao|     Nao|                null|                                          Nao|                                        Nao|                                                                   Nao|     Nao|            Nao|                       Nao|Confirmado|\n",
            "|         2021-01-01|        1999-03-12|Confirmado Labora...|               SALVADOR|Ignorado|   F|                    Nao|  Nao|  Nao|            Nao|     Nao|CONTATO COM CASO ...|                                          Nao|                                        Nao|                                                                   Nao|     Nao|            Nao|                       Nao|Confirmado|\n",
            "|         2021-01-01|        1993-03-22|Confirmado Labora...|               SALVADOR|   Parda|   F|                    Nao|  Nao|  Nao|            Nao|     Sim|                   0|                                          Nao|                                        Nao|                                                                   Nao|     Nao|            Nao|                       Nao|Confirmado|\n",
            "|         2021-01-01|        1976-08-17|Confirmado Labora...|               SALVADOR|Ignorado|   F|                    Nao|  Nao|  Sim|            Nao|     Nao|    DIARREIA, FADIGA|                                          Nao|                                        Nao|                                                                   Nao|     Nao|            Nao|                       Nao|Confirmado|\n",
            "|         2021-01-01|        1948-06-16|Confirmado Labora...|               SALVADOR|   Parda|   M|                    Nao|  Nao|  Sim|            Nao|     Nao|                 Sim|                                          Nao|                                        Nao|                                                                   Nao|     Nao|            Nao|                       Sim|Confirmado|\n",
            "|         2021-01-01|        1965-07-23|Confirmado Labora...|               SALVADOR|  Branca|   M|                    Nao|  Nao|  Nao|            Sim|     Nao|                   0|                                          Nao|                                        Nao|                                                                   Nao|     Nao|            Nao|                       Nao|Confirmado|\n",
            "|         2021-01-01|        1955-02-18|Confirmado Labora...|               SALVADOR|   Parda|   F|                    Nao|  Nao|  Sim|            Nao|     Nao|                null|                                          Nao|                                        Nao|                                                                   Nao|     Nao|            Nao|                       Nao|Confirmado|\n",
            "|         2021-01-01|        1954-03-08|Confirmado Labora...|               SALVADOR|   Parda|   F|                    Sim|  Sim|  Sim|            Nao|     Sim|                   0|                                          Nao|                                        Nao|                                                                   Nao|     Nao|            Nao|                       Nao|Confirmado|\n",
            "|         2021-01-01|        1975-06-29|Confirmado Labora...|               SALVADOR|  Branca|   F|                    Nao|  Nao|  Sim|            Sim|     Nao|                   .|                                          Nao|                                        Nao|                                                                   Nao|     Nao|            Nao|                       Nao|Confirmado|\n",
            "|         2021-01-01|        2020-08-06|Confirmado Labora...|               SALVADOR|   Parda|   M|                    Nao|  Sim|  Sim|            Nao|     Nao|              coriza|                                          Nao|                                        Nao|                                                                   Nao|     Nao|            Nao|                       Nao|Confirmado|\n",
            "|         2021-01-01|        1972-02-23|Confirmado Labora...|               SALVADOR|  Branca|   M|                    Nao|  Sim|  Sim|            Nao|     Nao|                null|                                          Nao|                                        Nao|                                                                   Nao|     Nao|            Nao|                       Nao|Confirmado|\n",
            "|         2021-01-01|        1955-08-30|Confirmado Labora...|               SALVADOR|   Parda|   F|                    Nao|  Nao|  Sim|            Nao|     Sim|                 Nao|                                          Nao|                                        Nao|                                                                   Nao|     Sim|            Nao|                       Sim|Confirmado|\n",
            "|         2021-01-01|        1968-10-28|Confirmado Labora...|               SALVADOR|Ignorado|   F|                    Nao|  Nao|  Nao|            Sim|     Nao|                   0|                                          Nao|                                        Nao|                                                                   Nao|     Nao|            Nao|                       Nao|Confirmado|\n",
            "|         2021-01-01|        1971-01-07|Confirmado Labora...|               SALVADOR|   Preta|   M|                    Nao|  Nao|  Sim|            Nao|     Nao|  diarreia, sudorese|                                          Nao|                                        Nao|                                                                   Nao|     Nao|            Nao|                       Nao|Confirmado|\n",
            "|         2021-01-01|        1972-07-03|Confirmado Labora...|               SALVADOR|   Preta|   M|                    Nao|  Sim|  Sim|            Nao|     Nao|     ANOSMIA MIALGIA|                                          Nao|                                        Nao|                                                                   Nao|     Nao|            Nao|                       Nao|Confirmado|\n",
            "|         2021-01-01|        1966-02-02|Confirmado Labora...|               SALVADOR|   Preta|   M|                    Nao|  Nao|  Nao|            Nao|     Nao|ANOSMIA E AGEUSIA...|                                          Nao|                                        Nao|                                                                   Nao|     Nao|            Nao|                       Nao|Confirmado|\n",
            "|         2021-01-01|        1978-02-19|Confirmado Labora...|               SALVADOR|   Parda|   F|                    Nao|  Nao|  Sim|            Nao|     Nao|                   0|                                          Nao|                                        Nao|                                                                   Nao|     Nao|            Nao|                       Nao|Confirmado|\n",
            "|         2021-01-01|        1971-05-16|Confirmado Labora...|               SALVADOR|  Branca|   M|                    Nao|  Nao|  Sim|            Nao|     Nao|                   0|                                          Nao|                                        Nao|                                                                   Nao|     Nao|            Nao|                       Nao|Confirmado|\n",
            "|         2021-01-01|        1986-08-12|Confirmado Labora...|               SALVADOR|Ignorado|   M|                    Nao|  Nao|  Nao|            Nao|     Nao|                  SI|                                          Nao|                                        Nao|                                                                   Nao|     Nao|            Nao|                       Nao|Confirmado|\n",
            "+-------------------+------------------+--------------------+-----------------------+--------+----+-----------------------+-----+-----+---------------+--------+--------------------+---------------------------------------------+-------------------------------------------+----------------------------------------------------------------------+--------+---------------+--------------------------+----------+\n",
            "only showing top 20 rows\n",
            "\n"
          ]
        }
      ]
    },
    {
      "cell_type": "code",
      "source": [
        "dadosCovid.groupby('CLASSIFICACAO_FINAL').count().show()"
      ],
      "metadata": {
        "colab": {
          "base_uri": "https://localhost:8080/"
        },
        "id": "eEemf3wnFvRW",
        "outputId": "1bb0122a-19c2-48db-c5a9-bbd45aa941a9"
      },
      "execution_count": 83,
      "outputs": [
        {
          "output_type": "stream",
          "name": "stdout",
          "text": [
            "+--------------------+------+\n",
            "| CLASSIFICACAO_FINAL| count|\n",
            "+--------------------+------+\n",
            "|Confirmado por Cr...|   248|\n",
            "|          Confirmado|    12|\n",
            "|                null| 14297|\n",
            "|Vinculo- Epidemio...|   113|\n",
            "|Confirmado Clínic...|   546|\n",
            "|        Laboratorial|  7789|\n",
            "|Confirmado Labora...|100935|\n",
            "|Síndrome Gripal N...|     8|\n",
            "|             Clínico|   184|\n",
            "|                   4|     6|\n",
            "|Confirmado Clínic...|    13|\n",
            "|          Descartado|   766|\n",
            "+--------------------+------+\n",
            "\n"
          ]
        }
      ]
    },
    {
      "cell_type": "code",
      "source": [
        "ab = dadosCovid.filter(F.col('CLASSIFICACAO_FINAL').contains('Vinculo-'))\n",
        "ab.select(['CLASSIFICACAO_FINAL']).show()"
      ],
      "metadata": {
        "colab": {
          "base_uri": "https://localhost:8080/"
        },
        "id": "gNwdxuB7N71t",
        "outputId": "fd3d7013-e9e2-4971-a020-222cc6d57789"
      },
      "execution_count": 54,
      "outputs": [
        {
          "output_type": "stream",
          "name": "stdout",
          "text": [
            "+--------------------+\n",
            "| CLASSIFICACAO_FINAL|\n",
            "+--------------------+\n",
            "|Vinculo- Epidemio...|\n",
            "|Vinculo- Epidemio...|\n",
            "|Vinculo- Epidemio...|\n",
            "|Vinculo- Epidemio...|\n",
            "|Vinculo- Epidemio...|\n",
            "|Vinculo- Epidemio...|\n",
            "|Vinculo- Epidemio...|\n",
            "|Vinculo- Epidemio...|\n",
            "|Vinculo- Epidemio...|\n",
            "|Vinculo- Epidemio...|\n",
            "|Vinculo- Epidemio...|\n",
            "|Vinculo- Epidemio...|\n",
            "|Vinculo- Epidemio...|\n",
            "|Vinculo- Epidemio...|\n",
            "|Vinculo- Epidemio...|\n",
            "|Vinculo- Epidemio...|\n",
            "|Vinculo- Epidemio...|\n",
            "|Vinculo- Epidemio...|\n",
            "|Vinculo- Epidemio...|\n",
            "|Vinculo- Epidemio...|\n",
            "+--------------------+\n",
            "only showing top 20 rows\n",
            "\n"
          ]
        }
      ]
    },
    {
      "cell_type": "code",
      "source": [
        "#dadosCovid.groupby('DATA_DA_NOTIFICACAO').count().show(40)"
      ],
      "metadata": {
        "id": "gsHW7LQcGkvM"
      },
      "execution_count": null,
      "outputs": []
    },
    {
      "cell_type": "code",
      "source": [
        "casosNaoNulos = dadosCovid.filter(dadosCovid['CLASSIFICACAO_FINAL'] != 'null')\n",
        "casosNaoDesc = casosNaoNulos.filter(dadosCovid.CLASSIFICACAO_FINAL != 'Descartado')"
      ],
      "metadata": {
        "id": "iuk6gvi2IfHW"
      },
      "execution_count": 70,
      "outputs": []
    },
    {
      "cell_type": "code",
      "source": [
        "casosNao4 = casosNaoDesc.filter(dadosCovid.CLASSIFICACAO_FINAL != '4')"
      ],
      "metadata": {
        "id": "1WFGRuZhNAT7"
      },
      "execution_count": 71,
      "outputs": []
    },
    {
      "cell_type": "code",
      "source": [
        "casosEpid = casosNao4.filter(dadosCovid.CLASSIFICACAO_FINAL.contains('Vinculo-') == False)\n",
        "casosConfirmados = casosEpid.count()\n",
        "# Imprimindo total de casos confirmados\n",
        "print(casosConfirmados)"
      ],
      "metadata": {
        "colab": {
          "base_uri": "https://localhost:8080/"
        },
        "id": "fJRqH30LN5vR",
        "outputId": "194ecfd7-a448-486c-b6cd-9548edad8def"
      },
      "execution_count": 98,
      "outputs": [
        {
          "output_type": "stream",
          "name": "stdout",
          "text": [
            "109735\n"
          ]
        }
      ]
    },
    {
      "cell_type": "code",
      "source": [
        "vacinacaoCovid.show()"
      ],
      "metadata": {
        "id": "0bVm_WvTM2rq",
        "outputId": "07bbf206-a317-495c-9946-11887ac395af",
        "colab": {
          "base_uri": "https://localhost:8080/"
        }
      },
      "execution_count": null,
      "outputs": [
        {
          "output_type": "stream",
          "name": "stdout",
          "text": [
            "+---------+-------+\n",
            "|    DATAS|NUMEROS|\n",
            "+---------+-------+\n",
            "|19-JAN-21|   1396|\n",
            "|20-JAN-21|   3918|\n",
            "|21-JAN-21|   3404|\n",
            "|22-JAN-21|   2687|\n",
            "|23-JAN-21|   2875|\n",
            "|24-JAN-21|   3242|\n",
            "|25-JAN-21|   3198|\n",
            "|26-JAN-21|   2244|\n",
            "|27-JAN-21|   1643|\n",
            "|28-JAN-21|   2874|\n",
            "|29-JAN-21|   8649|\n",
            "|30-JAN-21|  10202|\n",
            "|31-JAN-21|   7144|\n",
            "|01-FEB-21|   4154|\n",
            "|02-FEB-21|   2869|\n",
            "|03-FEB-21|   2782|\n",
            "|04-FEB-21|   5058|\n",
            "|05-FEB-21|   7966|\n",
            "|06-FEB-21|   8786|\n",
            "|07-FEB-21|   1357|\n",
            "+---------+-------+\n",
            "only showing top 20 rows\n",
            "\n"
          ]
        }
      ]
    },
    {
      "cell_type": "code",
      "source": [
        "janeiro = vacinacaoCovid.filter(vacinacaoCovid.DATAS.contains('JAN-21'))\n",
        "janeiro.show()\n",
        "# Como eu posso somar os valores de cada linha??"
      ],
      "metadata": {
        "colab": {
          "base_uri": "https://localhost:8080/"
        },
        "id": "PC4uTx5VXkqQ",
        "outputId": "150aae80-124f-49c5-89c0-2a1a75f1ec3d"
      },
      "execution_count": 100,
      "outputs": [
        {
          "output_type": "stream",
          "name": "stdout",
          "text": [
            "+---------+-------+\n",
            "|    DATAS|NUMEROS|\n",
            "+---------+-------+\n",
            "|19-JAN-21|   1396|\n",
            "|20-JAN-21|   3918|\n",
            "|21-JAN-21|   3404|\n",
            "|22-JAN-21|   2687|\n",
            "|23-JAN-21|   2875|\n",
            "|24-JAN-21|   3242|\n",
            "|25-JAN-21|   3198|\n",
            "|26-JAN-21|   2244|\n",
            "|27-JAN-21|   1643|\n",
            "|28-JAN-21|   2874|\n",
            "|29-JAN-21|   8649|\n",
            "|30-JAN-21|  10202|\n",
            "|31-JAN-21|   7144|\n",
            "+---------+-------+\n",
            "\n"
          ]
        }
      ]
    },
    {
      "cell_type": "code",
      "source": [
        "dadosCovid.printSchema()"
      ],
      "metadata": {
        "colab": {
          "base_uri": "https://localhost:8080/"
        },
        "id": "mXTTh0d4qhpb",
        "outputId": "c1d217e9-c0c4-4987-a51d-1d728028cacd"
      },
      "execution_count": null,
      "outputs": [
        {
          "output_type": "stream",
          "name": "stdout",
          "text": [
            "root\n",
            " |-- DATA_DA_NOTIFICACAO: string (nullable = true)\n",
            " |-- DATA_DE_NASCIMENTO: string (nullable = true)\n",
            " |-- CLASSIFICACAO_FINAL: string (nullable = true)\n",
            " |-- MUNICIPIO_DE_RESIDENCIA: string (nullable = true)\n",
            " |-- RACA_COR: string (nullable = true)\n",
            " |-- SEXO: string (nullable = true)\n",
            " |-- E_PROFISSIONAL_DE_SAUDE: string (nullable = true)\n",
            " |-- FEBRE: string (nullable = true)\n",
            " |-- TOSSE: string (nullable = true)\n",
            " |-- DOR_DE_GARGANTA: string (nullable = true)\n",
            " |-- DISPNEIA: string (nullable = true)\n",
            " |-- OUTROS: string (nullable = true)\n",
            " |-- DOENCAS_RESPIRATORIAS_CRONICAS_DESCOMPENSADAS: string (nullable = true)\n",
            " |-- DOENCAS_RENAIS_CRONICAS_EM_ESTAGIO_AVANCADO: string (nullable = true)\n",
            " |-- PORTADOR_DE_DOENCAS_CROMOSSOMICAS_OU_ESTADO_DE_FRAGILIDADE_IMUNOLOGICA: string (nullable = true)\n",
            " |-- DIABETES: string (nullable = true)\n",
            " |-- IMUNOSSUPRESSAO: string (nullable = true)\n",
            " |-- DOENCAS_CARDIACAS_CRONICAS: string (nullable = true)\n",
            " |-- STATUS: string (nullable = true)\n",
            "\n"
          ]
        }
      ]
    },
    {
      "cell_type": "code",
      "source": [
        "from pyspark.sql.types import (\n",
        "    StringType, BooleanType, IntegerType, FloatType, DateType\n",
        ")\n",
        "\n",
        "coltype_map = {\n",
        "    \"DATA_DA_NOTIFICACAO\": DateType(),\n",
        "    \n",
        "}\n"
      ],
      "metadata": {
        "id": "Hrv9Cn8AqqCZ"
      },
      "execution_count": null,
      "outputs": []
    },
    {
      "cell_type": "code",
      "source": [
        "course_df2 = dadosCovid.withColumn(\"DATA_DA_NOTIFICACAO\", \n",
        "                                  dadosCovid[\"DATA_DA_NOTIFICACAO\"]\n",
        "                                  .cast(DateType()))\n",
        "course_df2.printSchema()"
      ],
      "metadata": {
        "colab": {
          "base_uri": "https://localhost:8080/"
        },
        "id": "5cNH3CW1tPh7",
        "outputId": "b4f7fc20-3b41-4a22-c8b9-c9f5b036a3ea"
      },
      "execution_count": null,
      "outputs": [
        {
          "output_type": "stream",
          "name": "stdout",
          "text": [
            "root\n",
            " |-- DATA_DA_NOTIFICACAO: date (nullable = true)\n",
            " |-- DATA_DE_NASCIMENTO: string (nullable = true)\n",
            " |-- CLASSIFICACAO_FINAL: string (nullable = true)\n",
            " |-- MUNICIPIO_DE_RESIDENCIA: string (nullable = true)\n",
            " |-- RACA_COR: string (nullable = true)\n",
            " |-- SEXO: string (nullable = true)\n",
            " |-- E_PROFISSIONAL_DE_SAUDE: string (nullable = true)\n",
            " |-- FEBRE: string (nullable = true)\n",
            " |-- TOSSE: string (nullable = true)\n",
            " |-- DOR_DE_GARGANTA: string (nullable = true)\n",
            " |-- DISPNEIA: string (nullable = true)\n",
            " |-- OUTROS: string (nullable = true)\n",
            " |-- DOENCAS_RESPIRATORIAS_CRONICAS_DESCOMPENSADAS: string (nullable = true)\n",
            " |-- DOENCAS_RENAIS_CRONICAS_EM_ESTAGIO_AVANCADO: string (nullable = true)\n",
            " |-- PORTADOR_DE_DOENCAS_CROMOSSOMICAS_OU_ESTADO_DE_FRAGILIDADE_IMUNOLOGICA: string (nullable = true)\n",
            " |-- DIABETES: string (nullable = true)\n",
            " |-- IMUNOSSUPRESSAO: string (nullable = true)\n",
            " |-- DOENCAS_CARDIACAS_CRONICAS: string (nullable = true)\n",
            " |-- STATUS: string (nullable = true)\n",
            "\n"
          ]
        }
      ]
    }
  ]
}