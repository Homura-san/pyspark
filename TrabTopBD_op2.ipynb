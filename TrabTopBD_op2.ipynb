{
  "nbformat": 4,
  "nbformat_minor": 0,
  "metadata": {
    "colab": {
      "provenance": [],
      "authorship_tag": "ABX9TyNtPviN3Ig/9D7rbrpmzcjR",
      "include_colab_link": true
    },
    "kernelspec": {
      "name": "python3",
      "display_name": "Python 3"
    },
    "language_info": {
      "name": "python"
    }
  },
  "cells": [
    {
      "cell_type": "markdown",
      "metadata": {
        "id": "view-in-github",
        "colab_type": "text"
      },
      "source": [
        "<a href=\"https://colab.research.google.com/github/Homura-san/pyspark/blob/main/TrabTopBD_op2.ipynb\" target=\"_parent\"><img src=\"https://colab.research.google.com/assets/colab-badge.svg\" alt=\"Open In Colab\"/></a>"
      ]
    },
    {
      "cell_type": "markdown",
      "source": [
        "# Instalação de Dependências"
      ],
      "metadata": {
        "id": "pXBXS54QkKIK"
      }
    },
    {
      "cell_type": "code",
      "execution_count": 1,
      "metadata": {
        "id": "pXiM3-QpRidS"
      },
      "outputs": [],
      "source": [
        "!apt-get install openjdk-8-jdk-headless -qq > /dev/null"
      ]
    },
    {
      "cell_type": "code",
      "source": [
        "# Fazendo download\n",
        "!wget -q https://archive.apache.org/dist/spark/spark-3.1.2/spark-3.1.2-bin-hadoop2.7.tgz\n",
        "\n",
        "# Descompactando os arquivos\n",
        "!tar xf spark-3.1.2-bin-hadoop2.7.tgz"
      ],
      "metadata": {
        "id": "lIvtv4dmRr5h"
      },
      "execution_count": 2,
      "outputs": []
    },
    {
      "cell_type": "code",
      "source": [
        "!tar xf spark-3.1.2-bin-hadoop2.7.tgz"
      ],
      "metadata": {
        "id": "eLi1VxmMRx0A"
      },
      "execution_count": 3,
      "outputs": []
    },
    {
      "cell_type": "code",
      "source": [
        "import os\n",
        "\n",
        "# Definindo a variável de ambiente do Java\n",
        "os.environ[\"JAVA_HOME\"] = \"/usr/lib/jvm/java-8-openjdk-amd64\"\n",
        "\n",
        "# Definindo a variável de ambiente do Spark\n",
        "os.environ[\"SPARK_HOME\"] = \"/content/spark-3.1.2-bin-hadoop2.7\""
      ],
      "metadata": {
        "id": "lvR34FDHR1B-"
      },
      "execution_count": 4,
      "outputs": []
    },
    {
      "cell_type": "code",
      "source": [
        "# instalando a findspark\n",
        "!pip install -q findspark"
      ],
      "metadata": {
        "id": "gdT7GjVFR3mH"
      },
      "execution_count": 5,
      "outputs": []
    },
    {
      "cell_type": "code",
      "source": [
        "# Importando a findspark\n",
        "import findspark\n",
        "\n",
        "# Iniciando o findspark\n",
        "findspark.init()"
      ],
      "metadata": {
        "id": "MDABEbC4R6Nh"
      },
      "execution_count": 6,
      "outputs": []
    },
    {
      "cell_type": "code",
      "source": [
        "# importando o pacote necessário para iniciar uma seção Spark\n",
        "from pyspark.sql import SparkSession\n",
        "\n",
        "# iniciando o spark context\n",
        "sc = SparkSession.builder.master('local[*]').getOrCreate()\n",
        "\n",
        "# Verificando se a sessão foi criada\n",
        "sc"
      ],
      "metadata": {
        "colab": {
          "base_uri": "https://localhost:8080/",
          "height": 0
        },
        "id": "3mBZof9xR8kv",
        "outputId": "c399e8f6-b052-48e8-e122-9cf835faaa2b"
      },
      "execution_count": 7,
      "outputs": [
        {
          "output_type": "execute_result",
          "data": {
            "text/plain": [
              "<pyspark.sql.session.SparkSession at 0x7f484046f070>"
            ],
            "text/html": [
              "\n",
              "            <div>\n",
              "                <p><b>SparkSession - in-memory</b></p>\n",
              "                \n",
              "        <div>\n",
              "            <p><b>SparkContext</b></p>\n",
              "\n",
              "            <p><a href=\"http://6eeab62c5cb4:4040\">Spark UI</a></p>\n",
              "\n",
              "            <dl>\n",
              "              <dt>Version</dt>\n",
              "                <dd><code>v3.1.2</code></dd>\n",
              "              <dt>Master</dt>\n",
              "                <dd><code>local[*]</code></dd>\n",
              "              <dt>AppName</dt>\n",
              "                <dd><code>pyspark-shell</code></dd>\n",
              "            </dl>\n",
              "        </div>\n",
              "        \n",
              "            </div>\n",
              "        "
            ]
          },
          "metadata": {},
          "execution_count": 7
        }
      ]
    },
    {
      "cell_type": "code",
      "source": [
        "from google.colab import drive\n",
        "drive.mount('/content/drive')"
      ],
      "metadata": {
        "id": "nf5zSyquSddG",
        "colab": {
          "base_uri": "https://localhost:8080/"
        },
        "outputId": "7b5be1a0-173b-4ec2-c302-891f21a39f5b"
      },
      "execution_count": 8,
      "outputs": [
        {
          "output_type": "stream",
          "name": "stdout",
          "text": [
            "Mounted at /content/drive\n"
          ]
        }
      ]
    },
    {
      "cell_type": "markdown",
      "source": [
        "# Preparando datasets"
      ],
      "metadata": {
        "id": "EBEaMWRJSh5t"
      }
    },
    {
      "cell_type": "code",
      "source": [
        "import pandas as pd\n",
        "from pyspark.sql import functions as F\n",
        "from pyspark.ml.feature import PCA\n",
        "#from pyspark.ml.feature import OneHotEncoderEstimator, StringIndexer, VectorAssembler\n",
        "from pyspark.ml import Pipeline"
      ],
      "metadata": {
        "id": "cU12IkmgHpqJ"
      },
      "execution_count": 9,
      "outputs": []
    },
    {
      "cell_type": "markdown",
      "source": [
        "### Dataset dados gerais da covid 2021 por data de notificação"
      ],
      "metadata": {
        "id": "ZH-2vtyxj5LK"
      }
    },
    {
      "cell_type": "code",
      "source": [
        "dadosCovid = sc.read.csv(\n",
        "    path = \"/content/drive/My Drive/dadosGerais2021.csv\",\n",
        "    inferSchema = True,\n",
        "    header = True,\n",
        "    sep = ',',\n",
        "    encoding = \"UTF-8\")"
      ],
      "metadata": {
        "id": "qMTRZh7dno-b"
      },
      "execution_count": null,
      "outputs": []
    },
    {
      "cell_type": "code",
      "source": [
        "type(dadosCovid)"
      ],
      "metadata": {
        "colab": {
          "base_uri": "https://localhost:8080/"
        },
        "id": "aQXCSzXcp1cN",
        "outputId": "9631de1e-7cfa-4910-f58f-11ef291df52f"
      },
      "execution_count": null,
      "outputs": [
        {
          "output_type": "execute_result",
          "data": {
            "text/plain": [
              "pyspark.sql.dataframe.DataFrame"
            ]
          },
          "metadata": {},
          "execution_count": 10
        }
      ]
    },
    {
      "cell_type": "code",
      "source": [
        "dadosCovid.show()"
      ],
      "metadata": {
        "colab": {
          "base_uri": "https://localhost:8080/"
        },
        "id": "UPRN0zMRqUWM",
        "outputId": "f95fd0cd-e186-46d5-bf54-9bd798b6d1f9"
      },
      "execution_count": null,
      "outputs": [
        {
          "output_type": "stream",
          "name": "stdout",
          "text": [
            "+-------------------+------------------+--------------------+-----------------------+--------+----+-----------------------+-----+-----+---------------+--------+--------------------+---------------------------------------------+-------------------------------------------+----------------------------------------------------------------------+--------+---------------+--------------------------+----------+\n",
            "|DATA_DA_NOTIFICACAO|DATA_DE_NASCIMENTO| CLASSIFICACAO_FINAL|MUNICIPIO_DE_RESIDENCIA|RACA_COR|SEXO|E_PROFISSIONAL_DE_SAUDE|FEBRE|TOSSE|DOR_DE_GARGANTA|DISPNEIA|              OUTROS|DOENCAS_RESPIRATORIAS_CRONICAS_DESCOMPENSADAS|DOENCAS_RENAIS_CRONICAS_EM_ESTAGIO_AVANCADO|PORTADOR_DE_DOENCAS_CROMOSSOMICAS_OU_ESTADO_DE_FRAGILIDADE_IMUNOLOGICA|DIABETES|IMUNOSSUPRESSAO|DOENCAS_CARDIACAS_CRONICAS|    STATUS|\n",
            "+-------------------+------------------+--------------------+-----------------------+--------+----+-----------------------+-----+-----+---------------+--------+--------------------+---------------------------------------------+-------------------------------------------+----------------------------------------------------------------------+--------+---------------+--------------------------+----------+\n",
            "|         2021-01-01|        1982-03-23|Confirmado Labora...|               SALVADOR|Ignorado|   M|                    Nao|  Nao|  Sim|            Sim|     Nao|   CALAFRIOS,MIALGIA|                                          Nao|                                        Nao|                                                                   Nao|     Nao|            Nao|                       Nao|Confirmado|\n",
            "|         2021-01-01|        1981-08-05|Confirmado Labora...|               SALVADOR|   Parda|   F|                    Nao|  Nao|  Sim|            Nao|     Nao|                null|                                          Nao|                                        Nao|                                                                   Nao|     Nao|            Nao|                       Nao|Confirmado|\n",
            "|         2021-01-01|        1999-03-12|Confirmado Labora...|               SALVADOR|Ignorado|   F|                    Nao|  Nao|  Nao|            Nao|     Nao|CONTATO COM CASO ...|                                          Nao|                                        Nao|                                                                   Nao|     Nao|            Nao|                       Nao|Confirmado|\n",
            "|         2021-01-01|        1993-03-22|Confirmado Labora...|               SALVADOR|   Parda|   F|                    Nao|  Nao|  Nao|            Nao|     Sim|                   0|                                          Nao|                                        Nao|                                                                   Nao|     Nao|            Nao|                       Nao|Confirmado|\n",
            "|         2021-01-01|        1976-08-17|Confirmado Labora...|               SALVADOR|Ignorado|   F|                    Nao|  Nao|  Sim|            Nao|     Nao|    DIARREIA, FADIGA|                                          Nao|                                        Nao|                                                                   Nao|     Nao|            Nao|                       Nao|Confirmado|\n",
            "|         2021-01-01|        1948-06-16|Confirmado Labora...|               SALVADOR|   Parda|   M|                    Nao|  Nao|  Sim|            Nao|     Nao|                 Sim|                                          Nao|                                        Nao|                                                                   Nao|     Nao|            Nao|                       Sim|Confirmado|\n",
            "|         2021-01-01|        1965-07-23|Confirmado Labora...|               SALVADOR|  Branca|   M|                    Nao|  Nao|  Nao|            Sim|     Nao|                   0|                                          Nao|                                        Nao|                                                                   Nao|     Nao|            Nao|                       Nao|Confirmado|\n",
            "|         2021-01-01|        1955-02-18|Confirmado Labora...|               SALVADOR|   Parda|   F|                    Nao|  Nao|  Sim|            Nao|     Nao|                null|                                          Nao|                                        Nao|                                                                   Nao|     Nao|            Nao|                       Nao|Confirmado|\n",
            "|         2021-01-01|        1954-03-08|Confirmado Labora...|               SALVADOR|   Parda|   F|                    Sim|  Sim|  Sim|            Nao|     Sim|                   0|                                          Nao|                                        Nao|                                                                   Nao|     Nao|            Nao|                       Nao|Confirmado|\n",
            "|         2021-01-01|        1975-06-29|Confirmado Labora...|               SALVADOR|  Branca|   F|                    Nao|  Nao|  Sim|            Sim|     Nao|                   .|                                          Nao|                                        Nao|                                                                   Nao|     Nao|            Nao|                       Nao|Confirmado|\n",
            "|         2021-01-01|        2020-08-06|Confirmado Labora...|               SALVADOR|   Parda|   M|                    Nao|  Sim|  Sim|            Nao|     Nao|              coriza|                                          Nao|                                        Nao|                                                                   Nao|     Nao|            Nao|                       Nao|Confirmado|\n",
            "|         2021-01-01|        1972-02-23|Confirmado Labora...|               SALVADOR|  Branca|   M|                    Nao|  Sim|  Sim|            Nao|     Nao|                null|                                          Nao|                                        Nao|                                                                   Nao|     Nao|            Nao|                       Nao|Confirmado|\n",
            "|         2021-01-01|        1955-08-30|Confirmado Labora...|               SALVADOR|   Parda|   F|                    Nao|  Nao|  Sim|            Nao|     Sim|                 Nao|                                          Nao|                                        Nao|                                                                   Nao|     Sim|            Nao|                       Sim|Confirmado|\n",
            "|         2021-01-01|        1968-10-28|Confirmado Labora...|               SALVADOR|Ignorado|   F|                    Nao|  Nao|  Nao|            Sim|     Nao|                   0|                                          Nao|                                        Nao|                                                                   Nao|     Nao|            Nao|                       Nao|Confirmado|\n",
            "|         2021-01-01|        1971-01-07|Confirmado Labora...|               SALVADOR|   Preta|   M|                    Nao|  Nao|  Sim|            Nao|     Nao|  diarreia, sudorese|                                          Nao|                                        Nao|                                                                   Nao|     Nao|            Nao|                       Nao|Confirmado|\n",
            "|         2021-01-01|        1972-07-03|Confirmado Labora...|               SALVADOR|   Preta|   M|                    Nao|  Sim|  Sim|            Nao|     Nao|     ANOSMIA MIALGIA|                                          Nao|                                        Nao|                                                                   Nao|     Nao|            Nao|                       Nao|Confirmado|\n",
            "|         2021-01-01|        1966-02-02|Confirmado Labora...|               SALVADOR|   Preta|   M|                    Nao|  Nao|  Nao|            Nao|     Nao|ANOSMIA E AGEUSIA...|                                          Nao|                                        Nao|                                                                   Nao|     Nao|            Nao|                       Nao|Confirmado|\n",
            "|         2021-01-01|        1978-02-19|Confirmado Labora...|               SALVADOR|   Parda|   F|                    Nao|  Nao|  Sim|            Nao|     Nao|                   0|                                          Nao|                                        Nao|                                                                   Nao|     Nao|            Nao|                       Nao|Confirmado|\n",
            "|         2021-01-01|        1971-05-16|Confirmado Labora...|               SALVADOR|  Branca|   M|                    Nao|  Nao|  Sim|            Nao|     Nao|                   0|                                          Nao|                                        Nao|                                                                   Nao|     Nao|            Nao|                       Nao|Confirmado|\n",
            "|         2021-01-01|        1986-08-12|Confirmado Labora...|               SALVADOR|Ignorado|   M|                    Nao|  Nao|  Nao|            Nao|     Nao|                  SI|                                          Nao|                                        Nao|                                                                   Nao|     Nao|            Nao|                       Nao|Confirmado|\n",
            "+-------------------+------------------+--------------------+-----------------------+--------+----+-----------------------+-----+-----+---------------+--------+--------------------+---------------------------------------------+-------------------------------------------+----------------------------------------------------------------------+--------+---------------+--------------------------+----------+\n",
            "only showing top 20 rows\n",
            "\n"
          ]
        }
      ]
    },
    {
      "cell_type": "code",
      "source": [
        "dadosCovid.printSchema()"
      ],
      "metadata": {
        "colab": {
          "base_uri": "https://localhost:8080/"
        },
        "id": "-NBa9-PvPgFH",
        "outputId": "65859347-912d-4a66-c82b-ec0e40e2befc"
      },
      "execution_count": null,
      "outputs": [
        {
          "output_type": "stream",
          "name": "stdout",
          "text": [
            "root\n",
            " |-- DATA_DA_NOTIFICACAO: string (nullable = true)\n",
            " |-- DATA_DE_NASCIMENTO: string (nullable = true)\n",
            " |-- CLASSIFICACAO_FINAL: string (nullable = true)\n",
            " |-- MUNICIPIO_DE_RESIDENCIA: string (nullable = true)\n",
            " |-- RACA_COR: string (nullable = true)\n",
            " |-- SEXO: string (nullable = true)\n",
            " |-- E_PROFISSIONAL_DE_SAUDE: string (nullable = true)\n",
            " |-- FEBRE: string (nullable = true)\n",
            " |-- TOSSE: string (nullable = true)\n",
            " |-- DOR_DE_GARGANTA: string (nullable = true)\n",
            " |-- DISPNEIA: string (nullable = true)\n",
            " |-- OUTROS: string (nullable = true)\n",
            " |-- DOENCAS_RESPIRATORIAS_CRONICAS_DESCOMPENSADAS: string (nullable = true)\n",
            " |-- DOENCAS_RENAIS_CRONICAS_EM_ESTAGIO_AVANCADO: string (nullable = true)\n",
            " |-- PORTADOR_DE_DOENCAS_CROMOSSOMICAS_OU_ESTADO_DE_FRAGILIDADE_IMUNOLOGICA: string (nullable = true)\n",
            " |-- DIABETES: string (nullable = true)\n",
            " |-- IMUNOSSUPRESSAO: string (nullable = true)\n",
            " |-- DOENCAS_CARDIACAS_CRONICAS: string (nullable = true)\n",
            " |-- STATUS: string (nullable = true)\n",
            "\n"
          ]
        }
      ]
    },
    {
      "cell_type": "code",
      "source": [
        "temp1 = dadosCovid.groupby('CLASSIFICACAO_FINAL').count()\n",
        "temp1.show()"
      ],
      "metadata": {
        "colab": {
          "base_uri": "https://localhost:8080/"
        },
        "id": "eEemf3wnFvRW",
        "outputId": "a7947ae6-a5da-412d-e54e-dfc4f05bfd4f"
      },
      "execution_count": null,
      "outputs": [
        {
          "output_type": "stream",
          "name": "stdout",
          "text": [
            "+--------------------+------+\n",
            "| CLASSIFICACAO_FINAL| count|\n",
            "+--------------------+------+\n",
            "|Confirmado por Cr...|   248|\n",
            "|          Confirmado|    12|\n",
            "|                null| 14297|\n",
            "|Vinculo- Epidemio...|   113|\n",
            "|Confirmado Clínic...|   546|\n",
            "|        Laboratorial|  7789|\n",
            "|Confirmado Labora...|100935|\n",
            "|Síndrome Gripal N...|     8|\n",
            "|             Clínico|   184|\n",
            "|                   4|     6|\n",
            "|Confirmado Clínic...|    13|\n",
            "|          Descartado|   766|\n",
            "+--------------------+------+\n",
            "\n"
          ]
        }
      ]
    },
    {
      "cell_type": "markdown",
      "source": [
        "#### Especificação dos tipos de casos notificados no ano de 2021"
      ],
      "metadata": {
        "id": "sgKE-IwCO2Ox"
      }
    },
    {
      "cell_type": "code",
      "source": [
        "# Especificação dos tipos de casos notificados no ano de 2021\n",
        "tiposDeCasos = temp1.toPandas()\n",
        "tiposDeCasos.head(12)"
      ],
      "metadata": {
        "colab": {
          "base_uri": "https://localhost:8080/",
          "height": 426
        },
        "id": "VdLhvaze3_dA",
        "outputId": "7cfcb100-86dd-405a-9bae-e1aa0923949c"
      },
      "execution_count": null,
      "outputs": [
        {
          "output_type": "execute_result",
          "data": {
            "text/plain": [
              "                  CLASSIFICACAO_FINAL   count\n",
              "0     Confirmado por Critério Clínico     248\n",
              "1                          Confirmado      12\n",
              "2                                None   14297\n",
              "3             Vinculo- Epidemiológico     113\n",
              "4   Confirmado Clínico-Epidemiológico     546\n",
              "5                        Laboratorial    7789\n",
              "6             Confirmado Laboratorial  100935\n",
              "7    Síndrome Gripal Não Especificada       8\n",
              "8                             Clínico     184\n",
              "9                                   4       6\n",
              "10          Confirmado Clínico-Imagem      13\n",
              "11                         Descartado     766"
            ],
            "text/html": [
              "\n",
              "  <div id=\"df-1e63dbfa-b08f-48ac-b409-999babb4a21d\">\n",
              "    <div class=\"colab-df-container\">\n",
              "      <div>\n",
              "<style scoped>\n",
              "    .dataframe tbody tr th:only-of-type {\n",
              "        vertical-align: middle;\n",
              "    }\n",
              "\n",
              "    .dataframe tbody tr th {\n",
              "        vertical-align: top;\n",
              "    }\n",
              "\n",
              "    .dataframe thead th {\n",
              "        text-align: right;\n",
              "    }\n",
              "</style>\n",
              "<table border=\"1\" class=\"dataframe\">\n",
              "  <thead>\n",
              "    <tr style=\"text-align: right;\">\n",
              "      <th></th>\n",
              "      <th>CLASSIFICACAO_FINAL</th>\n",
              "      <th>count</th>\n",
              "    </tr>\n",
              "  </thead>\n",
              "  <tbody>\n",
              "    <tr>\n",
              "      <th>0</th>\n",
              "      <td>Confirmado por Critério Clínico</td>\n",
              "      <td>248</td>\n",
              "    </tr>\n",
              "    <tr>\n",
              "      <th>1</th>\n",
              "      <td>Confirmado</td>\n",
              "      <td>12</td>\n",
              "    </tr>\n",
              "    <tr>\n",
              "      <th>2</th>\n",
              "      <td>None</td>\n",
              "      <td>14297</td>\n",
              "    </tr>\n",
              "    <tr>\n",
              "      <th>3</th>\n",
              "      <td>Vinculo- Epidemiológico</td>\n",
              "      <td>113</td>\n",
              "    </tr>\n",
              "    <tr>\n",
              "      <th>4</th>\n",
              "      <td>Confirmado Clínico-Epidemiológico</td>\n",
              "      <td>546</td>\n",
              "    </tr>\n",
              "    <tr>\n",
              "      <th>5</th>\n",
              "      <td>Laboratorial</td>\n",
              "      <td>7789</td>\n",
              "    </tr>\n",
              "    <tr>\n",
              "      <th>6</th>\n",
              "      <td>Confirmado Laboratorial</td>\n",
              "      <td>100935</td>\n",
              "    </tr>\n",
              "    <tr>\n",
              "      <th>7</th>\n",
              "      <td>Síndrome Gripal Não Especificada</td>\n",
              "      <td>8</td>\n",
              "    </tr>\n",
              "    <tr>\n",
              "      <th>8</th>\n",
              "      <td>Clínico</td>\n",
              "      <td>184</td>\n",
              "    </tr>\n",
              "    <tr>\n",
              "      <th>9</th>\n",
              "      <td>4</td>\n",
              "      <td>6</td>\n",
              "    </tr>\n",
              "    <tr>\n",
              "      <th>10</th>\n",
              "      <td>Confirmado Clínico-Imagem</td>\n",
              "      <td>13</td>\n",
              "    </tr>\n",
              "    <tr>\n",
              "      <th>11</th>\n",
              "      <td>Descartado</td>\n",
              "      <td>766</td>\n",
              "    </tr>\n",
              "  </tbody>\n",
              "</table>\n",
              "</div>\n",
              "      <button class=\"colab-df-convert\" onclick=\"convertToInteractive('df-1e63dbfa-b08f-48ac-b409-999babb4a21d')\"\n",
              "              title=\"Convert this dataframe to an interactive table.\"\n",
              "              style=\"display:none;\">\n",
              "        \n",
              "  <svg xmlns=\"http://www.w3.org/2000/svg\" height=\"24px\"viewBox=\"0 0 24 24\"\n",
              "       width=\"24px\">\n",
              "    <path d=\"M0 0h24v24H0V0z\" fill=\"none\"/>\n",
              "    <path d=\"M18.56 5.44l.94 2.06.94-2.06 2.06-.94-2.06-.94-.94-2.06-.94 2.06-2.06.94zm-11 1L8.5 8.5l.94-2.06 2.06-.94-2.06-.94L8.5 2.5l-.94 2.06-2.06.94zm10 10l.94 2.06.94-2.06 2.06-.94-2.06-.94-.94-2.06-.94 2.06-2.06.94z\"/><path d=\"M17.41 7.96l-1.37-1.37c-.4-.4-.92-.59-1.43-.59-.52 0-1.04.2-1.43.59L10.3 9.45l-7.72 7.72c-.78.78-.78 2.05 0 2.83L4 21.41c.39.39.9.59 1.41.59.51 0 1.02-.2 1.41-.59l7.78-7.78 2.81-2.81c.8-.78.8-2.07 0-2.86zM5.41 20L4 18.59l7.72-7.72 1.47 1.35L5.41 20z\"/>\n",
              "  </svg>\n",
              "      </button>\n",
              "      \n",
              "  <style>\n",
              "    .colab-df-container {\n",
              "      display:flex;\n",
              "      flex-wrap:wrap;\n",
              "      gap: 12px;\n",
              "    }\n",
              "\n",
              "    .colab-df-convert {\n",
              "      background-color: #E8F0FE;\n",
              "      border: none;\n",
              "      border-radius: 50%;\n",
              "      cursor: pointer;\n",
              "      display: none;\n",
              "      fill: #1967D2;\n",
              "      height: 32px;\n",
              "      padding: 0 0 0 0;\n",
              "      width: 32px;\n",
              "    }\n",
              "\n",
              "    .colab-df-convert:hover {\n",
              "      background-color: #E2EBFA;\n",
              "      box-shadow: 0px 1px 2px rgba(60, 64, 67, 0.3), 0px 1px 3px 1px rgba(60, 64, 67, 0.15);\n",
              "      fill: #174EA6;\n",
              "    }\n",
              "\n",
              "    [theme=dark] .colab-df-convert {\n",
              "      background-color: #3B4455;\n",
              "      fill: #D2E3FC;\n",
              "    }\n",
              "\n",
              "    [theme=dark] .colab-df-convert:hover {\n",
              "      background-color: #434B5C;\n",
              "      box-shadow: 0px 1px 3px 1px rgba(0, 0, 0, 0.15);\n",
              "      filter: drop-shadow(0px 1px 2px rgba(0, 0, 0, 0.3));\n",
              "      fill: #FFFFFF;\n",
              "    }\n",
              "  </style>\n",
              "\n",
              "      <script>\n",
              "        const buttonEl =\n",
              "          document.querySelector('#df-1e63dbfa-b08f-48ac-b409-999babb4a21d button.colab-df-convert');\n",
              "        buttonEl.style.display =\n",
              "          google.colab.kernel.accessAllowed ? 'block' : 'none';\n",
              "\n",
              "        async function convertToInteractive(key) {\n",
              "          const element = document.querySelector('#df-1e63dbfa-b08f-48ac-b409-999babb4a21d');\n",
              "          const dataTable =\n",
              "            await google.colab.kernel.invokeFunction('convertToInteractive',\n",
              "                                                     [key], {});\n",
              "          if (!dataTable) return;\n",
              "\n",
              "          const docLinkHtml = 'Like what you see? Visit the ' +\n",
              "            '<a target=\"_blank\" href=https://colab.research.google.com/notebooks/data_table.ipynb>data table notebook</a>'\n",
              "            + ' to learn more about interactive tables.';\n",
              "          element.innerHTML = '';\n",
              "          dataTable['output_type'] = 'display_data';\n",
              "          await google.colab.output.renderOutput(dataTable, element);\n",
              "          const docLink = document.createElement('div');\n",
              "          docLink.innerHTML = docLinkHtml;\n",
              "          element.appendChild(docLink);\n",
              "        }\n",
              "      </script>\n",
              "    </div>\n",
              "  </div>\n",
              "  "
            ]
          },
          "metadata": {},
          "execution_count": 13
        }
      ]
    },
    {
      "cell_type": "code",
      "source": [
        "# Converter para csv\n",
        "tiposDeCasos.to_csv('tiposDeCasos.csv')"
      ],
      "metadata": {
        "id": "8bQs6p2OOO1b"
      },
      "execution_count": null,
      "outputs": []
    },
    {
      "cell_type": "markdown",
      "source": [
        "#### Filtrando casos não confirmados e mal-notificados"
      ],
      "metadata": {
        "id": "Gtp4Q0BdO7LH"
      }
    },
    {
      "cell_type": "code",
      "source": [
        "# Filtrando casos descartados e com classificação nula\n",
        "casosNaoNulos = dadosCovid.filter(dadosCovid['CLASSIFICACAO_FINAL'] != 'null')\n",
        "casosNaoDesc = casosNaoNulos.filter(dadosCovid.CLASSIFICACAO_FINAL != 'Descartado')"
      ],
      "metadata": {
        "id": "iuk6gvi2IfHW"
      },
      "execution_count": null,
      "outputs": []
    },
    {
      "cell_type": "code",
      "source": [
        "# Filtrando casos com classificação incerta\n",
        "casosNao4 = casosNaoDesc.filter(dadosCovid.CLASSIFICACAO_FINAL != '4')"
      ],
      "metadata": {
        "id": "1WFGRuZhNAT7"
      },
      "execution_count": null,
      "outputs": []
    },
    {
      "cell_type": "code",
      "source": [
        "# FIltrando casos de síndrome gripal não especificada\n",
        "casosConfirmTotais = casosNao4.filter(dadosCovid.CLASSIFICACAO_FINAL.contains('Síndrome Gripal Não Especificada') == False)\n",
        "casosConfirmados = casosConfirmTotais.count()\n",
        "# Imprimindo total de casos confirmados\n",
        "print(casosConfirmados)"
      ],
      "metadata": {
        "colab": {
          "base_uri": "https://localhost:8080/"
        },
        "id": "fJRqH30LN5vR",
        "outputId": "3d8f039a-b835-4c7e-e77f-43ded15aeaaa"
      },
      "execution_count": null,
      "outputs": [
        {
          "output_type": "stream",
          "name": "stdout",
          "text": [
            "109840\n"
          ]
        }
      ]
    },
    {
      "cell_type": "code",
      "source": [
        "profSaude = casosConfirmTotais.groupby('E_PROFISSIONAL_DE_SAUDE').count()"
      ],
      "metadata": {
        "id": "jxKaQQtofjzl"
      },
      "execution_count": null,
      "outputs": []
    },
    {
      "cell_type": "markdown",
      "source": [
        "#### Criando datasets para subdivisões dos casos confirmados totais"
      ],
      "metadata": {
        "id": "mB0_q-FrrYiR"
      }
    },
    {
      "cell_type": "markdown",
      "source": [
        "Todos os casos confirmados entre profissionais de saúde"
      ],
      "metadata": {
        "id": "9ospxCw7PF0j"
      }
    },
    {
      "cell_type": "code",
      "source": [
        "# Dado que pode ser incluído no relatório - Todos os casos confirmados entre profissionais de saúde\n",
        "p1 = profSaude.toPandas()\n",
        "p1.head()"
      ],
      "metadata": {
        "colab": {
          "base_uri": "https://localhost:8080/",
          "height": 143
        },
        "id": "PoABvqKRmDEL",
        "outputId": "d878a67d-30fd-4751-f11b-9cbad5b569f8"
      },
      "execution_count": null,
      "outputs": [
        {
          "output_type": "execute_result",
          "data": {
            "text/plain": [
              "  E_PROFISSIONAL_DE_SAUDE   count\n",
              "0                    None    3982\n",
              "1                     Sim    3532\n",
              "2                     Nao  102326"
            ],
            "text/html": [
              "\n",
              "  <div id=\"df-db8d1fbe-6b48-46e0-9a7c-3a7c180bf557\">\n",
              "    <div class=\"colab-df-container\">\n",
              "      <div>\n",
              "<style scoped>\n",
              "    .dataframe tbody tr th:only-of-type {\n",
              "        vertical-align: middle;\n",
              "    }\n",
              "\n",
              "    .dataframe tbody tr th {\n",
              "        vertical-align: top;\n",
              "    }\n",
              "\n",
              "    .dataframe thead th {\n",
              "        text-align: right;\n",
              "    }\n",
              "</style>\n",
              "<table border=\"1\" class=\"dataframe\">\n",
              "  <thead>\n",
              "    <tr style=\"text-align: right;\">\n",
              "      <th></th>\n",
              "      <th>E_PROFISSIONAL_DE_SAUDE</th>\n",
              "      <th>count</th>\n",
              "    </tr>\n",
              "  </thead>\n",
              "  <tbody>\n",
              "    <tr>\n",
              "      <th>0</th>\n",
              "      <td>None</td>\n",
              "      <td>3982</td>\n",
              "    </tr>\n",
              "    <tr>\n",
              "      <th>1</th>\n",
              "      <td>Sim</td>\n",
              "      <td>3532</td>\n",
              "    </tr>\n",
              "    <tr>\n",
              "      <th>2</th>\n",
              "      <td>Nao</td>\n",
              "      <td>102326</td>\n",
              "    </tr>\n",
              "  </tbody>\n",
              "</table>\n",
              "</div>\n",
              "      <button class=\"colab-df-convert\" onclick=\"convertToInteractive('df-db8d1fbe-6b48-46e0-9a7c-3a7c180bf557')\"\n",
              "              title=\"Convert this dataframe to an interactive table.\"\n",
              "              style=\"display:none;\">\n",
              "        \n",
              "  <svg xmlns=\"http://www.w3.org/2000/svg\" height=\"24px\"viewBox=\"0 0 24 24\"\n",
              "       width=\"24px\">\n",
              "    <path d=\"M0 0h24v24H0V0z\" fill=\"none\"/>\n",
              "    <path d=\"M18.56 5.44l.94 2.06.94-2.06 2.06-.94-2.06-.94-.94-2.06-.94 2.06-2.06.94zm-11 1L8.5 8.5l.94-2.06 2.06-.94-2.06-.94L8.5 2.5l-.94 2.06-2.06.94zm10 10l.94 2.06.94-2.06 2.06-.94-2.06-.94-.94-2.06-.94 2.06-2.06.94z\"/><path d=\"M17.41 7.96l-1.37-1.37c-.4-.4-.92-.59-1.43-.59-.52 0-1.04.2-1.43.59L10.3 9.45l-7.72 7.72c-.78.78-.78 2.05 0 2.83L4 21.41c.39.39.9.59 1.41.59.51 0 1.02-.2 1.41-.59l7.78-7.78 2.81-2.81c.8-.78.8-2.07 0-2.86zM5.41 20L4 18.59l7.72-7.72 1.47 1.35L5.41 20z\"/>\n",
              "  </svg>\n",
              "      </button>\n",
              "      \n",
              "  <style>\n",
              "    .colab-df-container {\n",
              "      display:flex;\n",
              "      flex-wrap:wrap;\n",
              "      gap: 12px;\n",
              "    }\n",
              "\n",
              "    .colab-df-convert {\n",
              "      background-color: #E8F0FE;\n",
              "      border: none;\n",
              "      border-radius: 50%;\n",
              "      cursor: pointer;\n",
              "      display: none;\n",
              "      fill: #1967D2;\n",
              "      height: 32px;\n",
              "      padding: 0 0 0 0;\n",
              "      width: 32px;\n",
              "    }\n",
              "\n",
              "    .colab-df-convert:hover {\n",
              "      background-color: #E2EBFA;\n",
              "      box-shadow: 0px 1px 2px rgba(60, 64, 67, 0.3), 0px 1px 3px 1px rgba(60, 64, 67, 0.15);\n",
              "      fill: #174EA6;\n",
              "    }\n",
              "\n",
              "    [theme=dark] .colab-df-convert {\n",
              "      background-color: #3B4455;\n",
              "      fill: #D2E3FC;\n",
              "    }\n",
              "\n",
              "    [theme=dark] .colab-df-convert:hover {\n",
              "      background-color: #434B5C;\n",
              "      box-shadow: 0px 1px 3px 1px rgba(0, 0, 0, 0.15);\n",
              "      filter: drop-shadow(0px 1px 2px rgba(0, 0, 0, 0.3));\n",
              "      fill: #FFFFFF;\n",
              "    }\n",
              "  </style>\n",
              "\n",
              "      <script>\n",
              "        const buttonEl =\n",
              "          document.querySelector('#df-db8d1fbe-6b48-46e0-9a7c-3a7c180bf557 button.colab-df-convert');\n",
              "        buttonEl.style.display =\n",
              "          google.colab.kernel.accessAllowed ? 'block' : 'none';\n",
              "\n",
              "        async function convertToInteractive(key) {\n",
              "          const element = document.querySelector('#df-db8d1fbe-6b48-46e0-9a7c-3a7c180bf557');\n",
              "          const dataTable =\n",
              "            await google.colab.kernel.invokeFunction('convertToInteractive',\n",
              "                                                     [key], {});\n",
              "          if (!dataTable) return;\n",
              "\n",
              "          const docLinkHtml = 'Like what you see? Visit the ' +\n",
              "            '<a target=\"_blank\" href=https://colab.research.google.com/notebooks/data_table.ipynb>data table notebook</a>'\n",
              "            + ' to learn more about interactive tables.';\n",
              "          element.innerHTML = '';\n",
              "          dataTable['output_type'] = 'display_data';\n",
              "          await google.colab.output.renderOutput(dataTable, element);\n",
              "          const docLink = document.createElement('div');\n",
              "          docLink.innerHTML = docLinkHtml;\n",
              "          element.appendChild(docLink);\n",
              "        }\n",
              "      </script>\n",
              "    </div>\n",
              "  </div>\n",
              "  "
            ]
          },
          "metadata": {},
          "execution_count": 19
        }
      ]
    },
    {
      "cell_type": "code",
      "source": [
        "# Salvar como arquivo csv\n",
        "p1.to_csv(\"casosProfSaude.csv\")"
      ],
      "metadata": {
        "id": "M4ejTO3TrmR7"
      },
      "execution_count": null,
      "outputs": []
    },
    {
      "cell_type": "markdown",
      "source": [
        "Casos confirmados totais por sexo"
      ],
      "metadata": {
        "id": "tstQPbZcpzEn"
      }
    },
    {
      "cell_type": "code",
      "source": [
        "casosPorSexo = casosConfirmTotais.groupby('SEXO').count()\n",
        "casosPorSexo.show()"
      ],
      "metadata": {
        "colab": {
          "base_uri": "https://localhost:8080/"
        },
        "id": "PGP6hc2tp4aK",
        "outputId": "bc8ccd96-8e8f-4038-9aad-42e84d83aa98"
      },
      "execution_count": null,
      "outputs": [
        {
          "output_type": "stream",
          "name": "stdout",
          "text": [
            "+----+-----+\n",
            "|SEXO|count|\n",
            "+----+-----+\n",
            "|   F|58921|\n",
            "|   M|50912|\n",
            "|   I|    7|\n",
            "+----+-----+\n",
            "\n"
          ]
        }
      ]
    },
    {
      "cell_type": "code",
      "source": [
        "c1 = casosPorSexo.toPandas()\n",
        "c1.head()"
      ],
      "metadata": {
        "colab": {
          "base_uri": "https://localhost:8080/",
          "height": 143
        },
        "id": "K1ut7YFOqb38",
        "outputId": "fdb5dbbe-4d14-4230-eece-82162588b369"
      },
      "execution_count": null,
      "outputs": [
        {
          "output_type": "execute_result",
          "data": {
            "text/plain": [
              "  SEXO  count\n",
              "0    F  58921\n",
              "1    M  50912\n",
              "2    I      7"
            ],
            "text/html": [
              "\n",
              "  <div id=\"df-3930ed80-7bc5-403a-acb1-2f63bc0171d0\">\n",
              "    <div class=\"colab-df-container\">\n",
              "      <div>\n",
              "<style scoped>\n",
              "    .dataframe tbody tr th:only-of-type {\n",
              "        vertical-align: middle;\n",
              "    }\n",
              "\n",
              "    .dataframe tbody tr th {\n",
              "        vertical-align: top;\n",
              "    }\n",
              "\n",
              "    .dataframe thead th {\n",
              "        text-align: right;\n",
              "    }\n",
              "</style>\n",
              "<table border=\"1\" class=\"dataframe\">\n",
              "  <thead>\n",
              "    <tr style=\"text-align: right;\">\n",
              "      <th></th>\n",
              "      <th>SEXO</th>\n",
              "      <th>count</th>\n",
              "    </tr>\n",
              "  </thead>\n",
              "  <tbody>\n",
              "    <tr>\n",
              "      <th>0</th>\n",
              "      <td>F</td>\n",
              "      <td>58921</td>\n",
              "    </tr>\n",
              "    <tr>\n",
              "      <th>1</th>\n",
              "      <td>M</td>\n",
              "      <td>50912</td>\n",
              "    </tr>\n",
              "    <tr>\n",
              "      <th>2</th>\n",
              "      <td>I</td>\n",
              "      <td>7</td>\n",
              "    </tr>\n",
              "  </tbody>\n",
              "</table>\n",
              "</div>\n",
              "      <button class=\"colab-df-convert\" onclick=\"convertToInteractive('df-3930ed80-7bc5-403a-acb1-2f63bc0171d0')\"\n",
              "              title=\"Convert this dataframe to an interactive table.\"\n",
              "              style=\"display:none;\">\n",
              "        \n",
              "  <svg xmlns=\"http://www.w3.org/2000/svg\" height=\"24px\"viewBox=\"0 0 24 24\"\n",
              "       width=\"24px\">\n",
              "    <path d=\"M0 0h24v24H0V0z\" fill=\"none\"/>\n",
              "    <path d=\"M18.56 5.44l.94 2.06.94-2.06 2.06-.94-2.06-.94-.94-2.06-.94 2.06-2.06.94zm-11 1L8.5 8.5l.94-2.06 2.06-.94-2.06-.94L8.5 2.5l-.94 2.06-2.06.94zm10 10l.94 2.06.94-2.06 2.06-.94-2.06-.94-.94-2.06-.94 2.06-2.06.94z\"/><path d=\"M17.41 7.96l-1.37-1.37c-.4-.4-.92-.59-1.43-.59-.52 0-1.04.2-1.43.59L10.3 9.45l-7.72 7.72c-.78.78-.78 2.05 0 2.83L4 21.41c.39.39.9.59 1.41.59.51 0 1.02-.2 1.41-.59l7.78-7.78 2.81-2.81c.8-.78.8-2.07 0-2.86zM5.41 20L4 18.59l7.72-7.72 1.47 1.35L5.41 20z\"/>\n",
              "  </svg>\n",
              "      </button>\n",
              "      \n",
              "  <style>\n",
              "    .colab-df-container {\n",
              "      display:flex;\n",
              "      flex-wrap:wrap;\n",
              "      gap: 12px;\n",
              "    }\n",
              "\n",
              "    .colab-df-convert {\n",
              "      background-color: #E8F0FE;\n",
              "      border: none;\n",
              "      border-radius: 50%;\n",
              "      cursor: pointer;\n",
              "      display: none;\n",
              "      fill: #1967D2;\n",
              "      height: 32px;\n",
              "      padding: 0 0 0 0;\n",
              "      width: 32px;\n",
              "    }\n",
              "\n",
              "    .colab-df-convert:hover {\n",
              "      background-color: #E2EBFA;\n",
              "      box-shadow: 0px 1px 2px rgba(60, 64, 67, 0.3), 0px 1px 3px 1px rgba(60, 64, 67, 0.15);\n",
              "      fill: #174EA6;\n",
              "    }\n",
              "\n",
              "    [theme=dark] .colab-df-convert {\n",
              "      background-color: #3B4455;\n",
              "      fill: #D2E3FC;\n",
              "    }\n",
              "\n",
              "    [theme=dark] .colab-df-convert:hover {\n",
              "      background-color: #434B5C;\n",
              "      box-shadow: 0px 1px 3px 1px rgba(0, 0, 0, 0.15);\n",
              "      filter: drop-shadow(0px 1px 2px rgba(0, 0, 0, 0.3));\n",
              "      fill: #FFFFFF;\n",
              "    }\n",
              "  </style>\n",
              "\n",
              "      <script>\n",
              "        const buttonEl =\n",
              "          document.querySelector('#df-3930ed80-7bc5-403a-acb1-2f63bc0171d0 button.colab-df-convert');\n",
              "        buttonEl.style.display =\n",
              "          google.colab.kernel.accessAllowed ? 'block' : 'none';\n",
              "\n",
              "        async function convertToInteractive(key) {\n",
              "          const element = document.querySelector('#df-3930ed80-7bc5-403a-acb1-2f63bc0171d0');\n",
              "          const dataTable =\n",
              "            await google.colab.kernel.invokeFunction('convertToInteractive',\n",
              "                                                     [key], {});\n",
              "          if (!dataTable) return;\n",
              "\n",
              "          const docLinkHtml = 'Like what you see? Visit the ' +\n",
              "            '<a target=\"_blank\" href=https://colab.research.google.com/notebooks/data_table.ipynb>data table notebook</a>'\n",
              "            + ' to learn more about interactive tables.';\n",
              "          element.innerHTML = '';\n",
              "          dataTable['output_type'] = 'display_data';\n",
              "          await google.colab.output.renderOutput(dataTable, element);\n",
              "          const docLink = document.createElement('div');\n",
              "          docLink.innerHTML = docLinkHtml;\n",
              "          element.appendChild(docLink);\n",
              "        }\n",
              "      </script>\n",
              "    </div>\n",
              "  </div>\n",
              "  "
            ]
          },
          "metadata": {},
          "execution_count": 22
        }
      ]
    },
    {
      "cell_type": "code",
      "source": [
        "# Salvar como arquivo csv\n",
        "c1.to_csv(\"casosPorSexo.csv\")"
      ],
      "metadata": {
        "id": "IL2sB6CKqke1"
      },
      "execution_count": null,
      "outputs": []
    },
    {
      "cell_type": "markdown",
      "source": [
        "Casos confirmados por etnia"
      ],
      "metadata": {
        "id": "fFVH8HZ4r0HL"
      }
    },
    {
      "cell_type": "code",
      "source": [
        "casosPorEtnia = casosConfirmTotais.groupby('RACA_COR').count()\n",
        "casosPorEtnia.show()"
      ],
      "metadata": {
        "colab": {
          "base_uri": "https://localhost:8080/"
        },
        "id": "CMhefCXur38o",
        "outputId": "b34c48fe-9d9c-4877-e51b-f9c1f76faa40"
      },
      "execution_count": null,
      "outputs": [
        {
          "output_type": "stream",
          "name": "stdout",
          "text": [
            "+--------+-----+\n",
            "|RACA_COR|count|\n",
            "+--------+-----+\n",
            "|Indígena|    9|\n",
            "|Ignorado|43130|\n",
            "|   Preta|13495|\n",
            "| Amarela| 1460|\n",
            "|  Branca| 9956|\n",
            "|   Parda|41790|\n",
            "+--------+-----+\n",
            "\n"
          ]
        }
      ]
    },
    {
      "cell_type": "code",
      "source": [
        "c2 = casosPorEtnia.toPandas()\n",
        "c2.head()"
      ],
      "metadata": {
        "colab": {
          "base_uri": "https://localhost:8080/",
          "height": 206
        },
        "id": "gybQzWmbsDMa",
        "outputId": "bead53e1-6e1f-4b0d-9edc-e545c5c9c371"
      },
      "execution_count": null,
      "outputs": [
        {
          "output_type": "execute_result",
          "data": {
            "text/plain": [
              "   RACA_COR  count\n",
              "0  Indígena      9\n",
              "1  Ignorado  43130\n",
              "2     Preta  13495\n",
              "3   Amarela   1460\n",
              "4    Branca   9956"
            ],
            "text/html": [
              "\n",
              "  <div id=\"df-15ecfaa9-899b-49ac-ae17-83e5889169f5\">\n",
              "    <div class=\"colab-df-container\">\n",
              "      <div>\n",
              "<style scoped>\n",
              "    .dataframe tbody tr th:only-of-type {\n",
              "        vertical-align: middle;\n",
              "    }\n",
              "\n",
              "    .dataframe tbody tr th {\n",
              "        vertical-align: top;\n",
              "    }\n",
              "\n",
              "    .dataframe thead th {\n",
              "        text-align: right;\n",
              "    }\n",
              "</style>\n",
              "<table border=\"1\" class=\"dataframe\">\n",
              "  <thead>\n",
              "    <tr style=\"text-align: right;\">\n",
              "      <th></th>\n",
              "      <th>RACA_COR</th>\n",
              "      <th>count</th>\n",
              "    </tr>\n",
              "  </thead>\n",
              "  <tbody>\n",
              "    <tr>\n",
              "      <th>0</th>\n",
              "      <td>Indígena</td>\n",
              "      <td>9</td>\n",
              "    </tr>\n",
              "    <tr>\n",
              "      <th>1</th>\n",
              "      <td>Ignorado</td>\n",
              "      <td>43130</td>\n",
              "    </tr>\n",
              "    <tr>\n",
              "      <th>2</th>\n",
              "      <td>Preta</td>\n",
              "      <td>13495</td>\n",
              "    </tr>\n",
              "    <tr>\n",
              "      <th>3</th>\n",
              "      <td>Amarela</td>\n",
              "      <td>1460</td>\n",
              "    </tr>\n",
              "    <tr>\n",
              "      <th>4</th>\n",
              "      <td>Branca</td>\n",
              "      <td>9956</td>\n",
              "    </tr>\n",
              "  </tbody>\n",
              "</table>\n",
              "</div>\n",
              "      <button class=\"colab-df-convert\" onclick=\"convertToInteractive('df-15ecfaa9-899b-49ac-ae17-83e5889169f5')\"\n",
              "              title=\"Convert this dataframe to an interactive table.\"\n",
              "              style=\"display:none;\">\n",
              "        \n",
              "  <svg xmlns=\"http://www.w3.org/2000/svg\" height=\"24px\"viewBox=\"0 0 24 24\"\n",
              "       width=\"24px\">\n",
              "    <path d=\"M0 0h24v24H0V0z\" fill=\"none\"/>\n",
              "    <path d=\"M18.56 5.44l.94 2.06.94-2.06 2.06-.94-2.06-.94-.94-2.06-.94 2.06-2.06.94zm-11 1L8.5 8.5l.94-2.06 2.06-.94-2.06-.94L8.5 2.5l-.94 2.06-2.06.94zm10 10l.94 2.06.94-2.06 2.06-.94-2.06-.94-.94-2.06-.94 2.06-2.06.94z\"/><path d=\"M17.41 7.96l-1.37-1.37c-.4-.4-.92-.59-1.43-.59-.52 0-1.04.2-1.43.59L10.3 9.45l-7.72 7.72c-.78.78-.78 2.05 0 2.83L4 21.41c.39.39.9.59 1.41.59.51 0 1.02-.2 1.41-.59l7.78-7.78 2.81-2.81c.8-.78.8-2.07 0-2.86zM5.41 20L4 18.59l7.72-7.72 1.47 1.35L5.41 20z\"/>\n",
              "  </svg>\n",
              "      </button>\n",
              "      \n",
              "  <style>\n",
              "    .colab-df-container {\n",
              "      display:flex;\n",
              "      flex-wrap:wrap;\n",
              "      gap: 12px;\n",
              "    }\n",
              "\n",
              "    .colab-df-convert {\n",
              "      background-color: #E8F0FE;\n",
              "      border: none;\n",
              "      border-radius: 50%;\n",
              "      cursor: pointer;\n",
              "      display: none;\n",
              "      fill: #1967D2;\n",
              "      height: 32px;\n",
              "      padding: 0 0 0 0;\n",
              "      width: 32px;\n",
              "    }\n",
              "\n",
              "    .colab-df-convert:hover {\n",
              "      background-color: #E2EBFA;\n",
              "      box-shadow: 0px 1px 2px rgba(60, 64, 67, 0.3), 0px 1px 3px 1px rgba(60, 64, 67, 0.15);\n",
              "      fill: #174EA6;\n",
              "    }\n",
              "\n",
              "    [theme=dark] .colab-df-convert {\n",
              "      background-color: #3B4455;\n",
              "      fill: #D2E3FC;\n",
              "    }\n",
              "\n",
              "    [theme=dark] .colab-df-convert:hover {\n",
              "      background-color: #434B5C;\n",
              "      box-shadow: 0px 1px 3px 1px rgba(0, 0, 0, 0.15);\n",
              "      filter: drop-shadow(0px 1px 2px rgba(0, 0, 0, 0.3));\n",
              "      fill: #FFFFFF;\n",
              "    }\n",
              "  </style>\n",
              "\n",
              "      <script>\n",
              "        const buttonEl =\n",
              "          document.querySelector('#df-15ecfaa9-899b-49ac-ae17-83e5889169f5 button.colab-df-convert');\n",
              "        buttonEl.style.display =\n",
              "          google.colab.kernel.accessAllowed ? 'block' : 'none';\n",
              "\n",
              "        async function convertToInteractive(key) {\n",
              "          const element = document.querySelector('#df-15ecfaa9-899b-49ac-ae17-83e5889169f5');\n",
              "          const dataTable =\n",
              "            await google.colab.kernel.invokeFunction('convertToInteractive',\n",
              "                                                     [key], {});\n",
              "          if (!dataTable) return;\n",
              "\n",
              "          const docLinkHtml = 'Like what you see? Visit the ' +\n",
              "            '<a target=\"_blank\" href=https://colab.research.google.com/notebooks/data_table.ipynb>data table notebook</a>'\n",
              "            + ' to learn more about interactive tables.';\n",
              "          element.innerHTML = '';\n",
              "          dataTable['output_type'] = 'display_data';\n",
              "          await google.colab.output.renderOutput(dataTable, element);\n",
              "          const docLink = document.createElement('div');\n",
              "          docLink.innerHTML = docLinkHtml;\n",
              "          element.appendChild(docLink);\n",
              "        }\n",
              "      </script>\n",
              "    </div>\n",
              "  </div>\n",
              "  "
            ]
          },
          "metadata": {},
          "execution_count": 25
        }
      ]
    },
    {
      "cell_type": "code",
      "source": [
        "# Salvar como arquivo csv\n",
        "c2.to_csv(\"casosPorEtnia.csv\")"
      ],
      "metadata": {
        "id": "R5B36nUlsZGn"
      },
      "execution_count": null,
      "outputs": []
    },
    {
      "cell_type": "markdown",
      "source": [
        "##### Filtrar e contabilizar casos de covid de acordo com o mês"
      ],
      "metadata": {
        "id": "QFNsFbNFxjfj"
      }
    },
    {
      "cell_type": "markdown",
      "source": [
        "Separando datasets por mês"
      ],
      "metadata": {
        "id": "e_uPcEMKUdlA"
      }
    },
    {
      "cell_type": "code",
      "source": [
        "casosMeses = []\n",
        "for i in range(12):\n",
        "  k = None\n",
        "  if i < 9:\n",
        "    k = f'2021-0{i+1}'\n",
        "  else:\n",
        "    k = f'2021-{i+ 1}'\n",
        "  t1 = casosConfirmTotais.filter(casosConfirmTotais.DATA_DA_NOTIFICACAO.contains(f'{k}'))\n",
        "  casosMeses.append(t1)"
      ],
      "metadata": {
        "id": "IuPJyXcWk2Ff"
      },
      "execution_count": null,
      "outputs": []
    },
    {
      "cell_type": "code",
      "source": [
        "casosMeses[0].show()"
      ],
      "metadata": {
        "colab": {
          "base_uri": "https://localhost:8080/"
        },
        "id": "u_wwHbGmk2EI",
        "outputId": "0656c4c1-53c8-4f61-bb4b-c14e6c54c821"
      },
      "execution_count": null,
      "outputs": [
        {
          "output_type": "stream",
          "name": "stdout",
          "text": [
            "+-------------------+------------------+--------------------+-----------------------+--------+----+-----------------------+-----+-----+---------------+--------+--------------------+---------------------------------------------+-------------------------------------------+----------------------------------------------------------------------+--------+---------------+--------------------------+----------+\n",
            "|DATA_DA_NOTIFICACAO|DATA_DE_NASCIMENTO| CLASSIFICACAO_FINAL|MUNICIPIO_DE_RESIDENCIA|RACA_COR|SEXO|E_PROFISSIONAL_DE_SAUDE|FEBRE|TOSSE|DOR_DE_GARGANTA|DISPNEIA|              OUTROS|DOENCAS_RESPIRATORIAS_CRONICAS_DESCOMPENSADAS|DOENCAS_RENAIS_CRONICAS_EM_ESTAGIO_AVANCADO|PORTADOR_DE_DOENCAS_CROMOSSOMICAS_OU_ESTADO_DE_FRAGILIDADE_IMUNOLOGICA|DIABETES|IMUNOSSUPRESSAO|DOENCAS_CARDIACAS_CRONICAS|    STATUS|\n",
            "+-------------------+------------------+--------------------+-----------------------+--------+----+-----------------------+-----+-----+---------------+--------+--------------------+---------------------------------------------+-------------------------------------------+----------------------------------------------------------------------+--------+---------------+--------------------------+----------+\n",
            "|         2021-01-01|        1982-03-23|Confirmado Labora...|               SALVADOR|Ignorado|   M|                    Nao|  Nao|  Sim|            Sim|     Nao|   CALAFRIOS,MIALGIA|                                          Nao|                                        Nao|                                                                   Nao|     Nao|            Nao|                       Nao|Confirmado|\n",
            "|         2021-01-01|        1981-08-05|Confirmado Labora...|               SALVADOR|   Parda|   F|                    Nao|  Nao|  Sim|            Nao|     Nao|                null|                                          Nao|                                        Nao|                                                                   Nao|     Nao|            Nao|                       Nao|Confirmado|\n",
            "|         2021-01-01|        1999-03-12|Confirmado Labora...|               SALVADOR|Ignorado|   F|                    Nao|  Nao|  Nao|            Nao|     Nao|CONTATO COM CASO ...|                                          Nao|                                        Nao|                                                                   Nao|     Nao|            Nao|                       Nao|Confirmado|\n",
            "|         2021-01-01|        1993-03-22|Confirmado Labora...|               SALVADOR|   Parda|   F|                    Nao|  Nao|  Nao|            Nao|     Sim|                   0|                                          Nao|                                        Nao|                                                                   Nao|     Nao|            Nao|                       Nao|Confirmado|\n",
            "|         2021-01-01|        1976-08-17|Confirmado Labora...|               SALVADOR|Ignorado|   F|                    Nao|  Nao|  Sim|            Nao|     Nao|    DIARREIA, FADIGA|                                          Nao|                                        Nao|                                                                   Nao|     Nao|            Nao|                       Nao|Confirmado|\n",
            "|         2021-01-01|        1948-06-16|Confirmado Labora...|               SALVADOR|   Parda|   M|                    Nao|  Nao|  Sim|            Nao|     Nao|                 Sim|                                          Nao|                                        Nao|                                                                   Nao|     Nao|            Nao|                       Sim|Confirmado|\n",
            "|         2021-01-01|        1965-07-23|Confirmado Labora...|               SALVADOR|  Branca|   M|                    Nao|  Nao|  Nao|            Sim|     Nao|                   0|                                          Nao|                                        Nao|                                                                   Nao|     Nao|            Nao|                       Nao|Confirmado|\n",
            "|         2021-01-01|        1955-02-18|Confirmado Labora...|               SALVADOR|   Parda|   F|                    Nao|  Nao|  Sim|            Nao|     Nao|                null|                                          Nao|                                        Nao|                                                                   Nao|     Nao|            Nao|                       Nao|Confirmado|\n",
            "|         2021-01-01|        1954-03-08|Confirmado Labora...|               SALVADOR|   Parda|   F|                    Sim|  Sim|  Sim|            Nao|     Sim|                   0|                                          Nao|                                        Nao|                                                                   Nao|     Nao|            Nao|                       Nao|Confirmado|\n",
            "|         2021-01-01|        1975-06-29|Confirmado Labora...|               SALVADOR|  Branca|   F|                    Nao|  Nao|  Sim|            Sim|     Nao|                   .|                                          Nao|                                        Nao|                                                                   Nao|     Nao|            Nao|                       Nao|Confirmado|\n",
            "|         2021-01-01|        2020-08-06|Confirmado Labora...|               SALVADOR|   Parda|   M|                    Nao|  Sim|  Sim|            Nao|     Nao|              coriza|                                          Nao|                                        Nao|                                                                   Nao|     Nao|            Nao|                       Nao|Confirmado|\n",
            "|         2021-01-01|        1972-02-23|Confirmado Labora...|               SALVADOR|  Branca|   M|                    Nao|  Sim|  Sim|            Nao|     Nao|                null|                                          Nao|                                        Nao|                                                                   Nao|     Nao|            Nao|                       Nao|Confirmado|\n",
            "|         2021-01-01|        1955-08-30|Confirmado Labora...|               SALVADOR|   Parda|   F|                    Nao|  Nao|  Sim|            Nao|     Sim|                 Nao|                                          Nao|                                        Nao|                                                                   Nao|     Sim|            Nao|                       Sim|Confirmado|\n",
            "|         2021-01-01|        1968-10-28|Confirmado Labora...|               SALVADOR|Ignorado|   F|                    Nao|  Nao|  Nao|            Sim|     Nao|                   0|                                          Nao|                                        Nao|                                                                   Nao|     Nao|            Nao|                       Nao|Confirmado|\n",
            "|         2021-01-01|        1971-01-07|Confirmado Labora...|               SALVADOR|   Preta|   M|                    Nao|  Nao|  Sim|            Nao|     Nao|  diarreia, sudorese|                                          Nao|                                        Nao|                                                                   Nao|     Nao|            Nao|                       Nao|Confirmado|\n",
            "|         2021-01-01|        1972-07-03|Confirmado Labora...|               SALVADOR|   Preta|   M|                    Nao|  Sim|  Sim|            Nao|     Nao|     ANOSMIA MIALGIA|                                          Nao|                                        Nao|                                                                   Nao|     Nao|            Nao|                       Nao|Confirmado|\n",
            "|         2021-01-01|        1966-02-02|Confirmado Labora...|               SALVADOR|   Preta|   M|                    Nao|  Nao|  Nao|            Nao|     Nao|ANOSMIA E AGEUSIA...|                                          Nao|                                        Nao|                                                                   Nao|     Nao|            Nao|                       Nao|Confirmado|\n",
            "|         2021-01-01|        1978-02-19|Confirmado Labora...|               SALVADOR|   Parda|   F|                    Nao|  Nao|  Sim|            Nao|     Nao|                   0|                                          Nao|                                        Nao|                                                                   Nao|     Nao|            Nao|                       Nao|Confirmado|\n",
            "|         2021-01-01|        1971-05-16|Confirmado Labora...|               SALVADOR|  Branca|   M|                    Nao|  Nao|  Sim|            Nao|     Nao|                   0|                                          Nao|                                        Nao|                                                                   Nao|     Nao|            Nao|                       Nao|Confirmado|\n",
            "|         2021-01-01|        1986-08-12|Confirmado Labora...|               SALVADOR|Ignorado|   M|                    Nao|  Nao|  Nao|            Nao|     Nao|                  SI|                                          Nao|                                        Nao|                                                                   Nao|     Nao|            Nao|                       Nao|Confirmado|\n",
            "+-------------------+------------------+--------------------+-----------------------+--------+----+-----------------------+-----+-----+---------------+--------+--------------------+---------------------------------------------+-------------------------------------------+----------------------------------------------------------------------+--------+---------------+--------------------------+----------+\n",
            "only showing top 20 rows\n",
            "\n"
          ]
        }
      ]
    },
    {
      "cell_type": "code",
      "source": [
        "from pyspark.sql.types import StructType, StructField, StringType, IntegerType, FloatType\n",
        "\n",
        "data2 = []\n",
        "for i in range(len(casosMeses)):\n",
        "  temp = casosMeses[i].count()\n",
        "  t1 = None\n",
        "\n",
        "  if i < 9:\n",
        "    t1 = (f\"0{i+1}/2021\", temp)\n",
        "  else:\n",
        "    t1 = (f\"{i+1}/2021\", temp)\n",
        "\n",
        "  data2.append(t1)\n",
        "\n",
        "schema = StructType([StructField(\"MES\", StringType(), True),\n",
        "                     StructField(\"NUMERO_DE_CASOS\", IntegerType(), True)\n",
        "])\n",
        "\n",
        "df_casosPorMes = sc.createDataFrame(data=data2, schema=schema)"
      ],
      "metadata": {
        "id": "pq-JUUagU00Y"
      },
      "execution_count": null,
      "outputs": []
    },
    {
      "cell_type": "code",
      "source": [
        "df_casosPorMes.show()"
      ],
      "metadata": {
        "colab": {
          "base_uri": "https://localhost:8080/"
        },
        "id": "c8PaKHNqU1Pt",
        "outputId": "979f7215-b26c-4db1-8a7b-2f71065925c7"
      },
      "execution_count": null,
      "outputs": [
        {
          "output_type": "stream",
          "name": "stdout",
          "text": [
            "+-------+---------------+\n",
            "|    MES|NUMERO_DE_CASOS|\n",
            "+-------+---------------+\n",
            "|01/2021|          13694|\n",
            "|02/2021|          20579|\n",
            "|03/2021|          23100|\n",
            "|04/2021|          14009|\n",
            "|05/2021|          16525|\n",
            "|06/2021|          12523|\n",
            "|07/2021|           5868|\n",
            "|08/2021|           1850|\n",
            "|09/2021|            785|\n",
            "|10/2021|            342|\n",
            "|11/2021|            277|\n",
            "|12/2021|            288|\n",
            "+-------+---------------+\n",
            "\n"
          ]
        }
      ]
    },
    {
      "cell_type": "code",
      "source": [
        "casosPM = df_casosPorMes.toPandas()\n",
        "casosPM.head()"
      ],
      "metadata": {
        "colab": {
          "base_uri": "https://localhost:8080/",
          "height": 206
        },
        "id": "FFNGH31Tofy0",
        "outputId": "86c5be21-e5e9-420d-ec26-71d82b29eaa4"
      },
      "execution_count": null,
      "outputs": [
        {
          "output_type": "execute_result",
          "data": {
            "text/plain": [
              "       MES  NUMERO_DE_CASOS\n",
              "0  01/2021            13694\n",
              "1  02/2021            20579\n",
              "2  03/2021            23100\n",
              "3  04/2021            14009\n",
              "4  05/2021            16525"
            ],
            "text/html": [
              "\n",
              "  <div id=\"df-34f7754a-d081-4098-940b-98c59a408f54\">\n",
              "    <div class=\"colab-df-container\">\n",
              "      <div>\n",
              "<style scoped>\n",
              "    .dataframe tbody tr th:only-of-type {\n",
              "        vertical-align: middle;\n",
              "    }\n",
              "\n",
              "    .dataframe tbody tr th {\n",
              "        vertical-align: top;\n",
              "    }\n",
              "\n",
              "    .dataframe thead th {\n",
              "        text-align: right;\n",
              "    }\n",
              "</style>\n",
              "<table border=\"1\" class=\"dataframe\">\n",
              "  <thead>\n",
              "    <tr style=\"text-align: right;\">\n",
              "      <th></th>\n",
              "      <th>MES</th>\n",
              "      <th>NUMERO_DE_CASOS</th>\n",
              "    </tr>\n",
              "  </thead>\n",
              "  <tbody>\n",
              "    <tr>\n",
              "      <th>0</th>\n",
              "      <td>01/2021</td>\n",
              "      <td>13694</td>\n",
              "    </tr>\n",
              "    <tr>\n",
              "      <th>1</th>\n",
              "      <td>02/2021</td>\n",
              "      <td>20579</td>\n",
              "    </tr>\n",
              "    <tr>\n",
              "      <th>2</th>\n",
              "      <td>03/2021</td>\n",
              "      <td>23100</td>\n",
              "    </tr>\n",
              "    <tr>\n",
              "      <th>3</th>\n",
              "      <td>04/2021</td>\n",
              "      <td>14009</td>\n",
              "    </tr>\n",
              "    <tr>\n",
              "      <th>4</th>\n",
              "      <td>05/2021</td>\n",
              "      <td>16525</td>\n",
              "    </tr>\n",
              "  </tbody>\n",
              "</table>\n",
              "</div>\n",
              "      <button class=\"colab-df-convert\" onclick=\"convertToInteractive('df-34f7754a-d081-4098-940b-98c59a408f54')\"\n",
              "              title=\"Convert this dataframe to an interactive table.\"\n",
              "              style=\"display:none;\">\n",
              "        \n",
              "  <svg xmlns=\"http://www.w3.org/2000/svg\" height=\"24px\"viewBox=\"0 0 24 24\"\n",
              "       width=\"24px\">\n",
              "    <path d=\"M0 0h24v24H0V0z\" fill=\"none\"/>\n",
              "    <path d=\"M18.56 5.44l.94 2.06.94-2.06 2.06-.94-2.06-.94-.94-2.06-.94 2.06-2.06.94zm-11 1L8.5 8.5l.94-2.06 2.06-.94-2.06-.94L8.5 2.5l-.94 2.06-2.06.94zm10 10l.94 2.06.94-2.06 2.06-.94-2.06-.94-.94-2.06-.94 2.06-2.06.94z\"/><path d=\"M17.41 7.96l-1.37-1.37c-.4-.4-.92-.59-1.43-.59-.52 0-1.04.2-1.43.59L10.3 9.45l-7.72 7.72c-.78.78-.78 2.05 0 2.83L4 21.41c.39.39.9.59 1.41.59.51 0 1.02-.2 1.41-.59l7.78-7.78 2.81-2.81c.8-.78.8-2.07 0-2.86zM5.41 20L4 18.59l7.72-7.72 1.47 1.35L5.41 20z\"/>\n",
              "  </svg>\n",
              "      </button>\n",
              "      \n",
              "  <style>\n",
              "    .colab-df-container {\n",
              "      display:flex;\n",
              "      flex-wrap:wrap;\n",
              "      gap: 12px;\n",
              "    }\n",
              "\n",
              "    .colab-df-convert {\n",
              "      background-color: #E8F0FE;\n",
              "      border: none;\n",
              "      border-radius: 50%;\n",
              "      cursor: pointer;\n",
              "      display: none;\n",
              "      fill: #1967D2;\n",
              "      height: 32px;\n",
              "      padding: 0 0 0 0;\n",
              "      width: 32px;\n",
              "    }\n",
              "\n",
              "    .colab-df-convert:hover {\n",
              "      background-color: #E2EBFA;\n",
              "      box-shadow: 0px 1px 2px rgba(60, 64, 67, 0.3), 0px 1px 3px 1px rgba(60, 64, 67, 0.15);\n",
              "      fill: #174EA6;\n",
              "    }\n",
              "\n",
              "    [theme=dark] .colab-df-convert {\n",
              "      background-color: #3B4455;\n",
              "      fill: #D2E3FC;\n",
              "    }\n",
              "\n",
              "    [theme=dark] .colab-df-convert:hover {\n",
              "      background-color: #434B5C;\n",
              "      box-shadow: 0px 1px 3px 1px rgba(0, 0, 0, 0.15);\n",
              "      filter: drop-shadow(0px 1px 2px rgba(0, 0, 0, 0.3));\n",
              "      fill: #FFFFFF;\n",
              "    }\n",
              "  </style>\n",
              "\n",
              "      <script>\n",
              "        const buttonEl =\n",
              "          document.querySelector('#df-34f7754a-d081-4098-940b-98c59a408f54 button.colab-df-convert');\n",
              "        buttonEl.style.display =\n",
              "          google.colab.kernel.accessAllowed ? 'block' : 'none';\n",
              "\n",
              "        async function convertToInteractive(key) {\n",
              "          const element = document.querySelector('#df-34f7754a-d081-4098-940b-98c59a408f54');\n",
              "          const dataTable =\n",
              "            await google.colab.kernel.invokeFunction('convertToInteractive',\n",
              "                                                     [key], {});\n",
              "          if (!dataTable) return;\n",
              "\n",
              "          const docLinkHtml = 'Like what you see? Visit the ' +\n",
              "            '<a target=\"_blank\" href=https://colab.research.google.com/notebooks/data_table.ipynb>data table notebook</a>'\n",
              "            + ' to learn more about interactive tables.';\n",
              "          element.innerHTML = '';\n",
              "          dataTable['output_type'] = 'display_data';\n",
              "          await google.colab.output.renderOutput(dataTable, element);\n",
              "          const docLink = document.createElement('div');\n",
              "          docLink.innerHTML = docLinkHtml;\n",
              "          element.appendChild(docLink);\n",
              "        }\n",
              "      </script>\n",
              "    </div>\n",
              "  </div>\n",
              "  "
            ]
          },
          "metadata": {},
          "execution_count": 59
        }
      ]
    },
    {
      "cell_type": "code",
      "source": [
        "# Salvar como arquivo csv\n",
        "casosPM.to_csv(\"casosPorMes.csv\")"
      ],
      "metadata": {
        "id": "j67QzJvIou4N"
      },
      "execution_count": null,
      "outputs": []
    },
    {
      "cell_type": "markdown",
      "source": [
        "Revisão de tópicos dispiníveis em csv:\n",
        "\n",
        "\n",
        "\n",
        "*   Tipos de casos totais notificados\n",
        "*   Casos confirmados entre profissionais de saúde\n",
        "*   Número de casos confirmados por mês\n",
        "*   Casos confirmados por sexo\n",
        "*   Casos confirmados por etnia\n",
        "\n"
      ],
      "metadata": {
        "id": "J50Q255Co8uq"
      }
    },
    {
      "cell_type": "markdown",
      "source": [
        "### Preparando dataset - Número de vacinações Covid"
      ],
      "metadata": {
        "id": "qzpoI6eajoIj"
      }
    },
    {
      "cell_type": "code",
      "source": [
        "vacinacaoCovid = sc.read.csv(\n",
        "    path = \"/content/drive/My Drive/vacinacaoPorDia.csv\",\n",
        "    inferSchema = True,\n",
        "    header = True,\n",
        "    sep = ',',\n",
        "    encoding = \"UTF-8\")"
      ],
      "metadata": {
        "id": "m_g4wG0FLz72"
      },
      "execution_count": null,
      "outputs": []
    },
    {
      "cell_type": "code",
      "source": [
        "vacinacaoCovid.show()"
      ],
      "metadata": {
        "id": "0bVm_WvTM2rq",
        "outputId": "781046a0-3fa4-411e-e30b-42b152e10c1d",
        "colab": {
          "base_uri": "https://localhost:8080/"
        }
      },
      "execution_count": null,
      "outputs": [
        {
          "output_type": "stream",
          "name": "stdout",
          "text": [
            "+---------+-------+\n",
            "|    DATAS|NUMEROS|\n",
            "+---------+-------+\n",
            "|19-JAN-21|   1396|\n",
            "|20-JAN-21|   3918|\n",
            "|21-JAN-21|   3404|\n",
            "|22-JAN-21|   2687|\n",
            "|23-JAN-21|   2875|\n",
            "|24-JAN-21|   3242|\n",
            "|25-JAN-21|   3198|\n",
            "|26-JAN-21|   2244|\n",
            "|27-JAN-21|   1643|\n",
            "|28-JAN-21|   2874|\n",
            "|29-JAN-21|   8649|\n",
            "|30-JAN-21|  10202|\n",
            "|31-JAN-21|   7144|\n",
            "|01-FEB-21|   4154|\n",
            "|02-FEB-21|   2869|\n",
            "|03-FEB-21|   2782|\n",
            "|04-FEB-21|   5058|\n",
            "|05-FEB-21|   7966|\n",
            "|06-FEB-21|   8786|\n",
            "|07-FEB-21|   1357|\n",
            "+---------+-------+\n",
            "only showing top 20 rows\n",
            "\n"
          ]
        }
      ]
    },
    {
      "cell_type": "code",
      "source": [
        "vacinacaoCovid.printSchema()"
      ],
      "metadata": {
        "colab": {
          "base_uri": "https://localhost:8080/"
        },
        "id": "_HpcHySInLnI",
        "outputId": "b39d18fa-43a8-4a12-fea0-ec1cd21b012b"
      },
      "execution_count": null,
      "outputs": [
        {
          "output_type": "stream",
          "name": "stdout",
          "text": [
            "root\n",
            " |-- DATAS: string (nullable = true)\n",
            " |-- NUMEROS: integer (nullable = true)\n",
            "\n"
          ]
        }
      ]
    },
    {
      "cell_type": "code",
      "source": [
        "mes = ['JAN-21', 'FEB-21', 'MAR-21', 'APR-21', 'MAY-21', 'JUN-21', 'JUL-21', 'AUG-21', 'SEP-21', 'OCT-21', 'NOV-21', 'DEC-21']\n",
        "vacinacaoCovid2021 = []"
      ],
      "metadata": {
        "id": "9nG_YhRzGlzA"
      },
      "execution_count": null,
      "outputs": []
    },
    {
      "cell_type": "code",
      "source": [
        "for i in range(1, 13):\n",
        "  globals()[f\"mes{i}\"] = vacinacaoCovid.filter(vacinacaoCovid.DATAS.contains(f\"{mes[i-1]}\"))\n",
        "  vacinacaoCovid2021.append(globals()[f\"mes{i}\"])\n",
        "\n",
        "print(vacinacaoCovid2021)\n",
        "\n",
        "# Como eu posso somar os valores de cada linha??"
      ],
      "metadata": {
        "colab": {
          "base_uri": "https://localhost:8080/"
        },
        "id": "PC4uTx5VXkqQ",
        "outputId": "cdfb0847-63bc-4d1e-90fe-80140edb3d52"
      },
      "execution_count": null,
      "outputs": [
        {
          "output_type": "stream",
          "name": "stdout",
          "text": [
            "[DataFrame[DATAS: string, NUMEROS: int], DataFrame[DATAS: string, NUMEROS: int], DataFrame[DATAS: string, NUMEROS: int], DataFrame[DATAS: string, NUMEROS: int], DataFrame[DATAS: string, NUMEROS: int], DataFrame[DATAS: string, NUMEROS: int], DataFrame[DATAS: string, NUMEROS: int], DataFrame[DATAS: string, NUMEROS: int], DataFrame[DATAS: string, NUMEROS: int], DataFrame[DATAS: string, NUMEROS: int], DataFrame[DATAS: string, NUMEROS: int], DataFrame[DATAS: string, NUMEROS: int]]\n"
          ]
        }
      ]
    },
    {
      "cell_type": "code",
      "source": [
        "# Janeiro = índice 0;        Fevereiro = índice 1; Assim por diante\n",
        "vacinacaoCovid2021[0].show()"
      ],
      "metadata": {
        "colab": {
          "base_uri": "https://localhost:8080/"
        },
        "id": "hvFzRsufPIR0",
        "outputId": "cf01e4c9-844b-4581-98f0-62893d688dea"
      },
      "execution_count": null,
      "outputs": [
        {
          "output_type": "stream",
          "name": "stdout",
          "text": [
            "+---------+-------+\n",
            "|    DATAS|NUMEROS|\n",
            "+---------+-------+\n",
            "|19-JAN-21|   1396|\n",
            "|20-JAN-21|   3918|\n",
            "|21-JAN-21|   3404|\n",
            "|22-JAN-21|   2687|\n",
            "|23-JAN-21|   2875|\n",
            "|24-JAN-21|   3242|\n",
            "|25-JAN-21|   3198|\n",
            "|26-JAN-21|   2244|\n",
            "|27-JAN-21|   1643|\n",
            "|28-JAN-21|   2874|\n",
            "|29-JAN-21|   8649|\n",
            "|30-JAN-21|  10202|\n",
            "|31-JAN-21|   7144|\n",
            "+---------+-------+\n",
            "\n"
          ]
        }
      ]
    },
    {
      "cell_type": "code",
      "source": [
        "for i in range(len(vacinacaoCovid2021)):\n",
        "  a = None\n",
        "  if i < 9:\n",
        "    a = f'0{i+1}/2021'\n",
        "  else:\n",
        "    a = f'{i+ 1}/2021'\n",
        "  temp = vacinacaoCovid2021[i].withColumn('DATAS', F.when(vacinacaoCovid2021[i].DATAS.contains(f'{mes[i]}'), a)\\\n",
        "                                        .otherwise(vacinacaoCovid2021[i].DATAS))\n",
        "  vacinacaoCovid2021[i] = temp\n",
        "  vacinacaoCovid2021[i] = vacinacaoCovid2021[i].groupBy(F.col('DATAS')).sum('NUMEROS')\n",
        "  #temp.groupBy(F.col('DATAS')).sum('NUMEROS').show()"
      ],
      "metadata": {
        "id": "ujT55o6WRukY"
      },
      "execution_count": null,
      "outputs": []
    },
    {
      "cell_type": "code",
      "source": [
        "vacinacaoCovidMes = None\n",
        "for i in range(len(vacinacaoCovid2021) - 1):\n",
        "  if i == 0:\n",
        "    vacinacaoCovidMes = vacinacaoCovid2021[0].unionByName(vacinacaoCovid2021[i + 1])\n",
        "  else:\n",
        "    vacinacaoCovidMes = vacinacaoCovidMes.unionByName(vacinacaoCovid2021[i + 1])\n",
        "\n",
        "vacinacaoCovidMes.show()"
      ],
      "metadata": {
        "colab": {
          "base_uri": "https://localhost:8080/"
        },
        "id": "IRJJMJqiSpxF",
        "outputId": "c203ead2-b253-4a54-d641-75a80fd81330"
      },
      "execution_count": null,
      "outputs": [
        {
          "output_type": "stream",
          "name": "stdout",
          "text": [
            "+-------+------------+\n",
            "|  DATAS|sum(NUMEROS)|\n",
            "+-------+------------+\n",
            "|01/2021|       53476|\n",
            "|02/2021|      128018|\n",
            "|03/2021|      253793|\n",
            "|04/2021|      333229|\n",
            "|05/2021|      360640|\n",
            "|06/2021|      354389|\n",
            "|07/2021|      480148|\n",
            "|08/2021|      723756|\n",
            "|09/2021|      591456|\n",
            "|10/2021|      504166|\n",
            "|11/2021|      435901|\n",
            "|12/2021|      357592|\n",
            "+-------+------------+\n",
            "\n"
          ]
        }
      ]
    },
    {
      "cell_type": "code",
      "source": [
        "# Não executar\n",
        "#from pyspark.sql.types import StringType, DateType, FloatType\n",
        "#\n",
        "#v2 = vacinacaoCovidMes.withColumn(\"DATAS\",\n",
        " #                                 vacinacaoCovidMes[\"DATAS\"].cast(types.DateType()))\n",
        "\n",
        "#v2.printSchema()"
      ],
      "metadata": {
        "id": "ITT6ez-iCgx_"
      },
      "execution_count": null,
      "outputs": []
    },
    {
      "cell_type": "code",
      "source": [
        "# Convertendo para o Pandas para sakvar como csv\n",
        "vacMes = vacinacaoCovidMes.toPandas()\n",
        "print(vacMes)\n",
        "#vacinacaoCovidMes.write.csv('vacinacaoCovidMes.csv')"
      ],
      "metadata": {
        "colab": {
          "base_uri": "https://localhost:8080/"
        },
        "id": "2_SnfVGHoYAB",
        "outputId": "6e96cb96-3e18-48d6-e4f4-07a77b484303"
      },
      "execution_count": null,
      "outputs": [
        {
          "output_type": "stream",
          "name": "stdout",
          "text": [
            "      DATAS  sum(NUMEROS)\n",
            "0   01/2021         53476\n",
            "1   02/2021        128018\n",
            "2   03/2021        253793\n",
            "3   04/2021        333229\n",
            "4   05/2021        360640\n",
            "5   06/2021        354389\n",
            "6   07/2021        480148\n",
            "7   08/2021        723756\n",
            "8   09/2021        591456\n",
            "9   10/2021        504166\n",
            "10  11/2021        435901\n",
            "11  12/2021        357592\n"
          ]
        }
      ]
    },
    {
      "cell_type": "code",
      "source": [
        "# Salvar no formato csv - consultar na aba arquivos\n",
        "vacMes.to_csv(\"vacinacaoPorMes.csv\")"
      ],
      "metadata": {
        "id": "4rriSWQg2QCm"
      },
      "execution_count": null,
      "outputs": []
    },
    {
      "cell_type": "markdown",
      "source": [
        "### Preparando dataset do clima"
      ],
      "metadata": {
        "id": "YwBvaKrB1NGv"
      }
    },
    {
      "cell_type": "code",
      "source": [
        "# Fonte: https://www.meteoblue.com/pt/tempo/historyclimate/climatemodelled/salvador_brasil_3450554\n",
        "mediaClima = sc.read.csv(\n",
        "    path = \"/content/drive/My Drive/climaSalvadorMedio.csv\",\n",
        "    inferSchema = True,\n",
        "    header = True,\n",
        "    sep = ',',\n",
        "    encoding = \"UTF-8\")"
      ],
      "metadata": {
        "id": "95PhxDDr1UT3"
      },
      "execution_count": 12,
      "outputs": []
    },
    {
      "cell_type": "code",
      "source": [
        "mediaClima.show()"
      ],
      "metadata": {
        "colab": {
          "base_uri": "https://localhost:8080/"
        },
        "id": "Igsvu6NG5PaV",
        "outputId": "4f3d9e1b-e93d-4f10-bdb6-13d1a1a37c00"
      },
      "execution_count": 13,
      "outputs": [
        {
          "output_type": "stream",
          "name": "stdout",
          "text": [
            "+-----+------------+-------------------+-------------------+\n",
            "|  MES|PRECIPITACAO|MAXIMA_DIARIA_MEDIA|MINIMA_DIARIA_MEDIA|\n",
            "+-----+------------+-------------------+-------------------+\n",
            "|01/21|          38|                 30|                 22|\n",
            "|02/21|          44|                 30|                 23|\n",
            "|03/21|          46|                 30|                 23|\n",
            "|04/21|          48|                 28|                 23|\n",
            "|05/21|          37|                 27|                 22|\n",
            "|06/21|          31|                 26|                 21|\n",
            "|07/21|          30|                 25|                 20|\n",
            "|08/21|          24|                 25|                 20|\n",
            "|09/21|          18|                 26|                 20|\n",
            "|10/21|          27|                 28|                 21|\n",
            "|11/21|          38|                 29|                 22|\n",
            "|12/21|          44|                 30|                 22|\n",
            "+-----+------------+-------------------+-------------------+\n",
            "\n"
          ]
        }
      ]
    },
    {
      "cell_type": "code",
      "source": [
        "mediaClima.printSchema()"
      ],
      "metadata": {
        "colab": {
          "base_uri": "https://localhost:8080/"
        },
        "id": "Le6dlxPz5Tf7",
        "outputId": "cc5f807c-3335-4806-893c-edeb4811bd54"
      },
      "execution_count": 14,
      "outputs": [
        {
          "output_type": "stream",
          "name": "stdout",
          "text": [
            "root\n",
            " |-- MES: string (nullable = true)\n",
            " |-- PRECIPITACAO: integer (nullable = true)\n",
            " |-- MAXIMA_DIARIA_MEDIA: integer (nullable = true)\n",
            " |-- MINIMA_DIARIA_MEDIA: integer (nullable = true)\n",
            "\n"
          ]
        }
      ]
    },
    {
      "cell_type": "code",
      "source": [
        "clima = mediaClima.toPandas()\n",
        "clima.to_csv('mediaClima.csv')"
      ],
      "metadata": {
        "id": "vLBuzyfe58KM"
      },
      "execution_count": 15,
      "outputs": []
    },
    {
      "cell_type": "code",
      "source": [
        "clima.head()"
      ],
      "metadata": {
        "colab": {
          "base_uri": "https://localhost:8080/",
          "height": 206
        },
        "id": "zs4BmX6z6NLD",
        "outputId": "7176ef0c-4b27-4c06-9259-4eb24c7dfc86"
      },
      "execution_count": 16,
      "outputs": [
        {
          "output_type": "execute_result",
          "data": {
            "text/plain": [
              "     MES  PRECIPITACAO  MAXIMA_DIARIA_MEDIA  MINIMA_DIARIA_MEDIA\n",
              "0  01/21            38                   30                   22\n",
              "1  02/21            44                   30                   23\n",
              "2  03/21            46                   30                   23\n",
              "3  04/21            48                   28                   23\n",
              "4  05/21            37                   27                   22"
            ],
            "text/html": [
              "\n",
              "  <div id=\"df-ea833d70-0b45-4575-b7f3-b290477c2020\">\n",
              "    <div class=\"colab-df-container\">\n",
              "      <div>\n",
              "<style scoped>\n",
              "    .dataframe tbody tr th:only-of-type {\n",
              "        vertical-align: middle;\n",
              "    }\n",
              "\n",
              "    .dataframe tbody tr th {\n",
              "        vertical-align: top;\n",
              "    }\n",
              "\n",
              "    .dataframe thead th {\n",
              "        text-align: right;\n",
              "    }\n",
              "</style>\n",
              "<table border=\"1\" class=\"dataframe\">\n",
              "  <thead>\n",
              "    <tr style=\"text-align: right;\">\n",
              "      <th></th>\n",
              "      <th>MES</th>\n",
              "      <th>PRECIPITACAO</th>\n",
              "      <th>MAXIMA_DIARIA_MEDIA</th>\n",
              "      <th>MINIMA_DIARIA_MEDIA</th>\n",
              "    </tr>\n",
              "  </thead>\n",
              "  <tbody>\n",
              "    <tr>\n",
              "      <th>0</th>\n",
              "      <td>01/21</td>\n",
              "      <td>38</td>\n",
              "      <td>30</td>\n",
              "      <td>22</td>\n",
              "    </tr>\n",
              "    <tr>\n",
              "      <th>1</th>\n",
              "      <td>02/21</td>\n",
              "      <td>44</td>\n",
              "      <td>30</td>\n",
              "      <td>23</td>\n",
              "    </tr>\n",
              "    <tr>\n",
              "      <th>2</th>\n",
              "      <td>03/21</td>\n",
              "      <td>46</td>\n",
              "      <td>30</td>\n",
              "      <td>23</td>\n",
              "    </tr>\n",
              "    <tr>\n",
              "      <th>3</th>\n",
              "      <td>04/21</td>\n",
              "      <td>48</td>\n",
              "      <td>28</td>\n",
              "      <td>23</td>\n",
              "    </tr>\n",
              "    <tr>\n",
              "      <th>4</th>\n",
              "      <td>05/21</td>\n",
              "      <td>37</td>\n",
              "      <td>27</td>\n",
              "      <td>22</td>\n",
              "    </tr>\n",
              "  </tbody>\n",
              "</table>\n",
              "</div>\n",
              "      <button class=\"colab-df-convert\" onclick=\"convertToInteractive('df-ea833d70-0b45-4575-b7f3-b290477c2020')\"\n",
              "              title=\"Convert this dataframe to an interactive table.\"\n",
              "              style=\"display:none;\">\n",
              "        \n",
              "  <svg xmlns=\"http://www.w3.org/2000/svg\" height=\"24px\"viewBox=\"0 0 24 24\"\n",
              "       width=\"24px\">\n",
              "    <path d=\"M0 0h24v24H0V0z\" fill=\"none\"/>\n",
              "    <path d=\"M18.56 5.44l.94 2.06.94-2.06 2.06-.94-2.06-.94-.94-2.06-.94 2.06-2.06.94zm-11 1L8.5 8.5l.94-2.06 2.06-.94-2.06-.94L8.5 2.5l-.94 2.06-2.06.94zm10 10l.94 2.06.94-2.06 2.06-.94-2.06-.94-.94-2.06-.94 2.06-2.06.94z\"/><path d=\"M17.41 7.96l-1.37-1.37c-.4-.4-.92-.59-1.43-.59-.52 0-1.04.2-1.43.59L10.3 9.45l-7.72 7.72c-.78.78-.78 2.05 0 2.83L4 21.41c.39.39.9.59 1.41.59.51 0 1.02-.2 1.41-.59l7.78-7.78 2.81-2.81c.8-.78.8-2.07 0-2.86zM5.41 20L4 18.59l7.72-7.72 1.47 1.35L5.41 20z\"/>\n",
              "  </svg>\n",
              "      </button>\n",
              "      \n",
              "  <style>\n",
              "    .colab-df-container {\n",
              "      display:flex;\n",
              "      flex-wrap:wrap;\n",
              "      gap: 12px;\n",
              "    }\n",
              "\n",
              "    .colab-df-convert {\n",
              "      background-color: #E8F0FE;\n",
              "      border: none;\n",
              "      border-radius: 50%;\n",
              "      cursor: pointer;\n",
              "      display: none;\n",
              "      fill: #1967D2;\n",
              "      height: 32px;\n",
              "      padding: 0 0 0 0;\n",
              "      width: 32px;\n",
              "    }\n",
              "\n",
              "    .colab-df-convert:hover {\n",
              "      background-color: #E2EBFA;\n",
              "      box-shadow: 0px 1px 2px rgba(60, 64, 67, 0.3), 0px 1px 3px 1px rgba(60, 64, 67, 0.15);\n",
              "      fill: #174EA6;\n",
              "    }\n",
              "\n",
              "    [theme=dark] .colab-df-convert {\n",
              "      background-color: #3B4455;\n",
              "      fill: #D2E3FC;\n",
              "    }\n",
              "\n",
              "    [theme=dark] .colab-df-convert:hover {\n",
              "      background-color: #434B5C;\n",
              "      box-shadow: 0px 1px 3px 1px rgba(0, 0, 0, 0.15);\n",
              "      filter: drop-shadow(0px 1px 2px rgba(0, 0, 0, 0.3));\n",
              "      fill: #FFFFFF;\n",
              "    }\n",
              "  </style>\n",
              "\n",
              "      <script>\n",
              "        const buttonEl =\n",
              "          document.querySelector('#df-ea833d70-0b45-4575-b7f3-b290477c2020 button.colab-df-convert');\n",
              "        buttonEl.style.display =\n",
              "          google.colab.kernel.accessAllowed ? 'block' : 'none';\n",
              "\n",
              "        async function convertToInteractive(key) {\n",
              "          const element = document.querySelector('#df-ea833d70-0b45-4575-b7f3-b290477c2020');\n",
              "          const dataTable =\n",
              "            await google.colab.kernel.invokeFunction('convertToInteractive',\n",
              "                                                     [key], {});\n",
              "          if (!dataTable) return;\n",
              "\n",
              "          const docLinkHtml = 'Like what you see? Visit the ' +\n",
              "            '<a target=\"_blank\" href=https://colab.research.google.com/notebooks/data_table.ipynb>data table notebook</a>'\n",
              "            + ' to learn more about interactive tables.';\n",
              "          element.innerHTML = '';\n",
              "          dataTable['output_type'] = 'display_data';\n",
              "          await google.colab.output.renderOutput(dataTable, element);\n",
              "          const docLink = document.createElement('div');\n",
              "          docLink.innerHTML = docLinkHtml;\n",
              "          element.appendChild(docLink);\n",
              "        }\n",
              "      </script>\n",
              "    </div>\n",
              "  </div>\n",
              "  "
            ]
          },
          "metadata": {},
          "execution_count": 16
        }
      ]
    }
  ]
}